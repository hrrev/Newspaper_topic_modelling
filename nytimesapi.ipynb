{
 "cells": [
  {
   "cell_type": "markdown",
   "metadata": {},
   "source": [
    "## THE ONE IN WHICH I USE NYTIMES API\n",
    "\n",
    "So basically I realized that the task on hand could be done much more quickly by using the api provided by New York Times themselves. Also the number of articles retrieved is higher making LDA run much better.\n",
    "Only catch is that the __API does not provide us with the actual articles__ hence we __use the newsplease library to extract texts using the urls provided__"
   ]
  },
  {
   "cell_type": "code",
   "execution_count": 1,
   "metadata": {},
   "outputs": [],
   "source": [
    "#This is my nytimes developer API key required to make the requests.\n",
    "API_KEY=\"3EhyoUDWeGwW0vTGCY931FOgXOHCGBAj\""
   ]
  },
  {
   "cell_type": "code",
   "execution_count": 2,
   "metadata": {},
   "outputs": [],
   "source": [
    "import time"
   ]
  },
  {
   "cell_type": "code",
   "execution_count": 3,
   "metadata": {},
   "outputs": [],
   "source": [
    "import requests"
   ]
  },
  {
   "cell_type": "code",
   "execution_count": 43,
   "metadata": {
    "scrolled": true
   },
   "outputs": [
    {
     "name": "stdout",
     "output_type": "stream",
     "text": [
      "Please enter a date in mm-dd-yyyy format12-22-2016\n"
     ]
    }
   ],
   "source": [
    "#taking the input of the date\n",
    "date_str=input('Please enter a date in mm-dd-yyyy format')"
   ]
  },
  {
   "cell_type": "code",
   "execution_count": 44,
   "metadata": {},
   "outputs": [
    {
     "name": "stdout",
     "output_type": "stream",
     "text": [
      "12-22-2016\n",
      "20161222\n"
     ]
    }
   ],
   "source": [
    "#converting it into a form required to make request yyyymmdd\n",
    "print(date_str)\n",
    "date_trimmed=date_str[6:]+date_str[0:2]+date_str[3:5]\n",
    "print(date_trimmed)"
   ]
  },
  {
   "cell_type": "code",
   "execution_count": 46,
   "metadata": {},
   "outputs": [],
   "source": [
    "PREFIX=\"http://api.nytimes.com/svc/search/v2/articlesearch.json?begin_date=\"\n",
    "CENTER=\"&end_date=\"\n",
    "SUFFIX=\"&api-key=\""
   ]
  },
  {
   "cell_type": "code",
   "execution_count": 74,
   "metadata": {},
   "outputs": [
    {
     "name": "stdout",
     "output_type": "stream",
     "text": [
      "http://api.nytimes.com/svc/search/v2/articlesearch.json?begin_date=20161222&end_date=20161222&offset=1&api-key=3EhyoUDWeGwW0vTGCY931FOgXOHCGBAj\n"
     ]
    }
   ],
   "source": [
    "#making the first url\n",
    "#this will help us to get the total number of documents\n",
    "url=PREFIX+date_trimmed+CENTER+date_trimmed+\"&offset=1\"+SUFFIX+API_KEY\n",
    "print(url)"
   ]
  },
  {
   "cell_type": "code",
   "execution_count": 56,
   "metadata": {},
   "outputs": [],
   "source": [
    "#retrieving the json containing the inforamtion\n",
    "sample_json=requests.get(url).json()"
   ]
  },
  {
   "cell_type": "code",
   "execution_count": 57,
   "metadata": {},
   "outputs": [
    {
     "data": {
      "text/plain": [
       "dict"
      ]
     },
     "execution_count": 57,
     "metadata": {},
     "output_type": "execute_result"
    }
   ],
   "source": [
    "#having a look at the json\n",
    "type(sample_json)"
   ]
  },
  {
   "cell_type": "code",
   "execution_count": 58,
   "metadata": {},
   "outputs": [
    {
     "data": {
      "text/plain": [
       "dict_keys(['status', 'copyright', 'response'])"
      ]
     },
     "execution_count": 58,
     "metadata": {},
     "output_type": "execute_result"
    }
   ],
   "source": [
    "#looking at keys of the dictionary\n",
    "sample_json.keys()"
   ]
  },
  {
   "cell_type": "code",
   "execution_count": 60,
   "metadata": {},
   "outputs": [],
   "source": [
    "#looking at the response key value\n",
    "response=sample_json['response']"
   ]
  },
  {
   "cell_type": "code",
   "execution_count": 61,
   "metadata": {},
   "outputs": [
    {
     "data": {
      "text/plain": [
       "dict"
      ]
     },
     "execution_count": 61,
     "metadata": {},
     "output_type": "execute_result"
    }
   ],
   "source": [
    "#looking at the response field\n",
    "type(response)"
   ]
  },
  {
   "cell_type": "code",
   "execution_count": 62,
   "metadata": {},
   "outputs": [
    {
     "data": {
      "text/plain": [
       "dict_keys(['docs', 'meta'])"
      ]
     },
     "execution_count": 62,
     "metadata": {},
     "output_type": "execute_result"
    }
   ],
   "source": [
    "response.keys()"
   ]
  },
  {
   "cell_type": "code",
   "execution_count": 67,
   "metadata": {},
   "outputs": [
    {
     "name": "stdout",
     "output_type": "stream",
     "text": [
      "[{'web_url': 'https://www.nytimes.com/slideshow/2016/12/22/blogs/choosing-the-new-york-times-pictures-of-the-year.html', 'snippet': 'How do you sort through 180,000 images to find a handful that sum up the year? Jeffrey Henson Scales explains.', 'lead_paragraph': 'How do you sort through 180,000 images to find a handful that sum up the year? Jeffrey Henson Scales explains.', 'blog': {}, 'source': 'The New York Times', 'multimedia': [{'rank': 0, 'subtype': 'wide', 'caption': None, 'credit': None, 'type': 'image', 'url': 'images/2016/12/21/blogs/21-lens-yip-slide-DM6V/21-lens-yip-slide-DM6V-thumbWide.jpg', 'height': 126, 'width': 190, 'legacy': {'wide': 'images/2016/12/21/blogs/21-lens-yip-slide-DM6V/21-lens-yip-slide-DM6V-thumbWide.jpg', 'wideheight': '126', 'widewidth': '190'}, 'subType': 'wide', 'crop_name': None}, {'rank': 0, 'subtype': 'xlarge', 'caption': None, 'credit': None, 'type': 'image', 'url': 'images/2016/12/21/blogs/21-lens-yip-slide-DM6V/21-lens-yip-slide-DM6V-articleLarge.jpg', 'height': 400, 'width': 600, 'legacy': {'xlargewidth': '600', 'xlarge': 'images/2016/12/21/blogs/21-lens-yip-slide-DM6V/21-lens-yip-slide-DM6V-articleLarge.jpg', 'xlargeheight': '400'}, 'subType': 'xlarge', 'crop_name': None}, {'rank': 0, 'subtype': 'thumbnail', 'caption': None, 'credit': None, 'type': 'image', 'url': 'images/2016/12/21/blogs/21-lens-yip-slide-DM6V/21-lens-yip-slide-DM6V-thumbStandard.jpg', 'height': 75, 'width': 75, 'legacy': {'thumbnailheight': '75', 'thumbnail': 'images/2016/12/21/blogs/21-lens-yip-slide-DM6V/21-lens-yip-slide-DM6V-thumbStandard.jpg', 'thumbnailwidth': '75'}, 'subType': 'thumbnail', 'crop_name': None}], 'headline': {'main': 'Choosing The New York Times Pictures of the Year', 'kicker': None, 'content_kicker': None, 'print_headline': None, 'name': None, 'seo': None, 'sub': None}, 'keywords': [], 'pub_date': '2016-12-22T08:05:42+0000', 'document_type': 'multimedia', 'news_desk': 'Blogs', 'section_name': 'Blogs', 'byline': {'original': None, 'person': None, 'organization': None}, 'type_of_material': 'Slideshow', '_id': '585b89617c459f2525d1329f', 'word_count': 20, 'slideshow_credits': 'Damon Winter/The New York Times', 'score': 0.0}, {'web_url': 'https://www.nytimes.com/video/travel/100000004825706/sit-with-santa-at-the-arctic-circle.html', 'snippet': 'Santa Claus Village in Finland attracts half a million visitors a year. Join the elves (postal workers) as they sort through some 700,000 letters to Santa.', 'lead_paragraph': 'Santa Claus Village in Finland attracts half a million visitors a year. Join the elves (postal workers) as they sort through some 700,000 letters to Santa.', 'blog': {}, 'source': 'The New York Times', 'multimedia': [{'rank': 0, 'subtype': 'xlarge', 'caption': None, 'credit': None, 'type': 'image', 'url': 'images/2016/12/22/travel/360-santa/360-santa-articleLarge.jpg', 'height': 400, 'width': 600, 'legacy': {'xlarge': 'images/2016/12/22/travel/360-santa/360-santa-articleLarge.jpg', 'xlargewidth': 600, 'xlargeheight': 400}, 'subType': 'xlarge', 'crop_name': 'articleLarge'}, {'rank': 0, 'subtype': 'wide', 'caption': None, 'credit': None, 'type': 'image', 'url': 'images/2016/12/22/travel/360-santa/360-santa-thumbWide.jpg', 'height': 126, 'width': 190, 'legacy': {'wide': 'images/2016/12/22/travel/360-santa/360-santa-thumbWide.jpg', 'widewidth': 190, 'wideheight': 126}, 'subType': 'wide', 'crop_name': 'thumbWide'}, {'rank': 0, 'subtype': 'thumbnail', 'caption': None, 'credit': None, 'type': 'image', 'url': 'images/2016/12/22/travel/360-santa/360-santa-thumbStandard.jpg', 'height': 75, 'width': 75, 'legacy': {'thumbnail': 'images/2016/12/22/travel/360-santa/360-santa-thumbStandard.jpg', 'thumbnailwidth': 75, 'thumbnailheight': 75}, 'subType': 'thumbnail', 'crop_name': 'thumbStandard'}, {'rank': 0, 'subtype': 'articleInline', 'caption': None, 'credit': None, 'type': 'image', 'url': 'images/2016/12/22/travel/360-santa/360-santa-articleInline.jpg', 'height': 127, 'width': 190, 'legacy': {}, 'subType': 'articleInline', 'crop_name': 'articleInline'}, {'rank': 0, 'subtype': 'blog225', 'caption': None, 'credit': None, 'type': 'image', 'url': 'images/2016/12/22/travel/360-santa/360-santa-blog225.jpg', 'height': 150, 'width': 225, 'legacy': {}, 'subType': 'blog225', 'crop_name': 'blog225'}, {'rank': 0, 'subtype': 'blog427', 'caption': None, 'credit': None, 'type': 'image', 'url': 'images/2016/12/22/travel/360-santa/360-santa-blog427.jpg', 'height': 285, 'width': 427, 'legacy': {}, 'subType': 'blog427', 'crop_name': 'blog427'}, {'rank': 0, 'subtype': 'blog480', 'caption': None, 'credit': None, 'type': 'image', 'url': 'images/2016/12/22/travel/360-santa/360-santa-blog480.jpg', 'height': 320, 'width': 480, 'legacy': {}, 'subType': 'blog480', 'crop_name': 'blog480'}, {'rank': 0, 'subtype': 'blog533', 'caption': None, 'credit': None, 'type': 'image', 'url': 'images/2016/12/22/travel/360-santa/360-santa-blog533.jpg', 'height': 355, 'width': 533, 'legacy': {}, 'subType': 'blog533', 'crop_name': 'blog533'}, {'rank': 0, 'subtype': 'blogSmallInline', 'caption': None, 'credit': None, 'type': 'image', 'url': 'images/2016/12/22/travel/360-santa/360-santa-blogSmallInline.jpg', 'height': 101, 'width': 151, 'legacy': {}, 'subType': 'blogSmallInline', 'crop_name': 'blogSmallInline'}, {'rank': 0, 'subtype': 'blogSmallThumb', 'caption': None, 'credit': None, 'type': 'image', 'url': 'images/2016/12/22/travel/360-santa/360-santa-blogSmallThumb.jpg', 'height': 50, 'width': 50, 'legacy': {}, 'subType': 'blogSmallThumb', 'crop_name': 'blogSmallThumb'}, {'rank': 0, 'subtype': 'facebookJumbo', 'caption': None, 'credit': None, 'type': 'image', 'url': 'images/2016/12/22/travel/360-santa/360-santa-facebookJumbo.jpg', 'height': 550, 'width': 1050, 'legacy': {}, 'subType': 'facebookJumbo', 'crop_name': 'facebookJumbo'}, {'rank': 0, 'subtype': 'filmstrip', 'caption': None, 'credit': None, 'type': 'image', 'url': 'images/2016/12/22/travel/360-santa/360-santa-filmstrip.jpg', 'height': 190, 'width': 190, 'legacy': {}, 'subType': 'filmstrip', 'crop_name': 'filmstrip'}, {'rank': 0, 'subtype': 'hpLarge', 'caption': None, 'credit': None, 'type': 'image', 'url': 'images/2016/12/22/travel/360-santa/360-santa-hpLarge.jpg', 'height': 287, 'width': 511, 'legacy': {}, 'subType': 'hpLarge', 'crop_name': 'hpLarge'}, {'rank': 0, 'subtype': 'hpSmall', 'caption': None, 'credit': None, 'type': 'image', 'url': 'images/2016/12/22/travel/360-santa/360-santa-hpSmall.jpg', 'height': 109, 'width': 163, 'legacy': {}, 'subType': 'hpSmall', 'crop_name': 'hpSmall'}, {'rank': 0, 'subtype': 'jumbo', 'caption': None, 'credit': None, 'type': 'image', 'url': 'images/2016/12/22/travel/360-santa/360-santa-jumbo.jpg', 'height': 683, 'width': 1024, 'legacy': {}, 'subType': 'jumbo', 'crop_name': 'jumbo'}, {'rank': 0, 'subtype': 'largeHorizontal375', 'caption': None, 'credit': None, 'type': 'image', 'url': 'images/2016/12/22/travel/360-santa/360-santa-largeHorizontal375.jpg', 'height': 250, 'width': 375, 'legacy': {}, 'subType': 'largeHorizontal375', 'crop_name': 'largeHorizontal375'}, {'rank': 0, 'subtype': 'largeHorizontalJumbo', 'caption': None, 'credit': None, 'type': 'image', 'url': 'images/2016/12/22/travel/360-santa/360-santa-largeHorizontalJumbo.jpg', 'height': 683, 'width': 1024, 'legacy': {}, 'subType': 'largeHorizontalJumbo', 'crop_name': 'largeHorizontalJumbo'}, {'rank': 0, 'subtype': 'largeWidescreen573', 'caption': None, 'credit': None, 'type': 'image', 'url': 'images/2016/12/22/travel/360-santa/360-santa-largeWidescreen573.jpg', 'height': 322, 'width': 573, 'legacy': {}, 'subType': 'largeWidescreen573', 'crop_name': 'largeWidescreen573'}, {'rank': 0, 'subtype': 'largeWidescreen1050', 'caption': None, 'credit': None, 'type': 'image', 'url': 'images/2016/12/22/travel/360-santa/360-santa-largeWidescreen1050.jpg', 'height': 591, 'width': 1050, 'legacy': {}, 'subType': 'largeWidescreen1050', 'crop_name': 'largeWidescreen1050'}, {'rank': 0, 'subtype': 'master1050', 'caption': None, 'credit': None, 'type': 'image', 'url': 'images/2016/12/22/travel/360-santa/360-santa-master1050.jpg', 'height': 700, 'width': 1050, 'legacy': {}, 'subType': 'master1050', 'crop_name': 'master1050'}, {'rank': 0, 'subtype': 'master180', 'caption': None, 'credit': None, 'type': 'image', 'url': 'images/2016/12/22/travel/360-santa/360-santa-master180.jpg', 'height': 120, 'width': 180, 'legacy': {}, 'subType': 'master180', 'crop_name': 'master180'}, {'rank': 0, 'subtype': 'master315', 'caption': None, 'credit': None, 'type': 'image', 'url': 'images/2016/12/22/travel/360-santa/360-santa-master315.jpg', 'height': 210, 'width': 315, 'legacy': {}, 'subType': 'master315', 'crop_name': 'master315'}, {'rank': 0, 'subtype': 'master495', 'caption': None, 'credit': None, 'type': 'image', 'url': 'images/2016/12/22/travel/360-santa/360-santa-master495.jpg', 'height': 330, 'width': 495, 'legacy': {}, 'subType': 'master495', 'crop_name': 'master495'}, {'rank': 0, 'subtype': 'master768', 'caption': None, 'credit': None, 'type': 'image', 'url': 'images/2016/12/22/travel/360-santa/360-santa-master768.jpg', 'height': 512, 'width': 768, 'legacy': {}, 'subType': 'master768', 'crop_name': 'master768'}, {'rank': 0, 'subtype': 'master675', 'caption': None, 'credit': None, 'type': 'image', 'url': 'images/2016/12/22/travel/360-santa/360-santa-master675.jpg', 'height': 450, 'width': 675, 'legacy': {}, 'subType': 'master675', 'crop_name': 'master675'}, {'rank': 0, 'subtype': 'mediumFlexible177', 'caption': None, 'credit': None, 'type': 'image', 'url': 'images/2016/12/22/travel/360-santa/360-santa-mediumFlexible177.jpg', 'height': 118, 'width': 177, 'legacy': {}, 'subType': 'mediumFlexible177', 'crop_name': 'mediumFlexible177'}, {'rank': 0, 'subtype': 'mediumSquare149', 'caption': None, 'credit': None, 'type': 'image', 'url': 'images/2016/12/22/travel/360-santa/360-santa-mediumSquare149.jpg', 'height': 149, 'width': 149, 'legacy': {}, 'subType': 'mediumSquare149', 'crop_name': 'mediumSquare149'}, {'rank': 0, 'subtype': 'mediumThreeByTwo210', 'caption': None, 'credit': None, 'type': 'image', 'url': 'images/2016/12/22/travel/360-santa/360-santa-mediumThreeByTwo210.jpg', 'height': 140, 'width': 210, 'legacy': {}, 'subType': 'mediumThreeByTwo210', 'crop_name': 'mediumThreeByTwo210'}, {'rank': 0, 'subtype': 'mediumThreeByTwo225', 'caption': None, 'credit': None, 'type': 'image', 'url': 'images/2016/12/22/travel/360-santa/360-santa-mediumThreeByTwo225.jpg', 'height': 150, 'width': 225, 'legacy': {}, 'subType': 'mediumThreeByTwo225', 'crop_name': 'mediumThreeByTwo225'}, {'rank': 0, 'subtype': 'mediumThreeByTwo440', 'caption': None, 'credit': None, 'type': 'image', 'url': 'images/2016/12/22/travel/360-santa/360-santa-mediumThreeByTwo440.jpg', 'height': 293, 'width': 440, 'legacy': {}, 'subType': 'mediumThreeByTwo440', 'crop_name': 'mediumThreeByTwo440'}, {'rank': 0, 'subtype': 'mediumThreeByTwo378', 'caption': None, 'credit': None, 'type': 'image', 'url': 'images/2016/12/22/travel/360-santa/360-santa-mediumThreeByTwo378.jpg', 'height': 252, 'width': 378, 'legacy': {}, 'subType': 'mediumThreeByTwo378', 'crop_name': 'mediumThreeByTwo378'}, {'rank': 0, 'subtype': 'mediumThreeByTwo252', 'caption': None, 'credit': None, 'type': 'image', 'url': 'images/2016/12/22/travel/360-santa/360-santa-mediumThreeByTwo252.jpg', 'height': 168, 'width': 252, 'legacy': {}, 'subType': 'mediumThreeByTwo252', 'crop_name': 'mediumThreeByTwo252'}, {'rank': 0, 'subtype': 'miniMoth', 'caption': None, 'credit': None, 'type': 'image', 'url': 'images/2016/12/22/travel/360-santa/360-santa-miniMoth.jpg', 'height': 70, 'width': 151, 'legacy': {}, 'subType': 'miniMoth', 'crop_name': 'miniMoth'}, {'rank': 0, 'subtype': 'moth', 'caption': None, 'credit': None, 'type': 'image', 'url': 'images/2016/12/22/travel/360-santa/360-santa-moth.jpg', 'height': 151, 'width': 151, 'legacy': {}, 'subType': 'moth', 'crop_name': 'moth'}, {'rank': 0, 'subtype': 'popup', 'caption': None, 'credit': None, 'type': 'image', 'url': 'images/2016/12/22/travel/360-santa/360-santa-popup.jpg', 'height': 433, 'width': 650, 'legacy': {}, 'subType': 'popup', 'crop_name': 'popup'}, {'rank': 0, 'subtype': 'sfSpan', 'caption': None, 'credit': None, 'type': 'image', 'url': 'images/2016/12/22/travel/360-santa/360-santa-sfSpan.jpg', 'height': 263, 'width': 395, 'legacy': {}, 'subType': 'sfSpan', 'crop_name': 'sfSpan'}, {'rank': 0, 'subtype': 'slide', 'caption': None, 'credit': None, 'type': 'image', 'url': 'images/2016/12/22/travel/360-santa/360-santa-slide.jpg', 'height': 400, 'width': 600, 'legacy': {}, 'subType': 'slide', 'crop_name': 'slide'}, {'rank': 0, 'subtype': 'smallSquare168', 'caption': None, 'credit': None, 'type': 'image', 'url': 'images/2016/12/22/travel/360-santa/360-santa-smallSquare168.jpg', 'height': 168, 'width': 168, 'legacy': {}, 'subType': 'smallSquare168', 'crop_name': 'smallSquare168'}, {'rank': 0, 'subtype': 'smallSquare252', 'caption': None, 'credit': None, 'type': 'image', 'url': 'images/2016/12/22/travel/360-santa/360-santa-smallSquare252.jpg', 'height': 252, 'width': 252, 'legacy': {}, 'subType': 'smallSquare252', 'crop_name': 'smallSquare252'}, {'rank': 0, 'subtype': 'square320', 'caption': None, 'credit': None, 'type': 'image', 'url': 'images/2016/12/22/travel/360-santa/360-santa-square320.jpg', 'height': 320, 'width': 320, 'legacy': {}, 'subType': 'square320', 'crop_name': 'square320'}, {'rank': 0, 'subtype': 'square640', 'caption': None, 'credit': None, 'type': 'image', 'url': 'images/2016/12/22/travel/360-santa/360-santa-square640.jpg', 'height': 640, 'width': 640, 'legacy': {}, 'subType': 'square640', 'crop_name': 'square640'}, {'rank': 0, 'subtype': 'superJumbo', 'caption': None, 'credit': None, 'type': 'image', 'url': 'images/2016/12/22/travel/360-santa/360-santa-superJumbo.jpg', 'height': 1365, 'width': 2048, 'legacy': {}, 'subType': 'superJumbo', 'crop_name': 'superJumbo'}, {'rank': 0, 'subtype': 'thumbLarge', 'caption': None, 'credit': None, 'type': 'image', 'url': 'images/2016/12/22/travel/360-santa/360-santa-thumbLarge.jpg', 'height': 150, 'width': 150, 'legacy': {}, 'subType': 'thumbLarge', 'crop_name': 'thumbLarge'}, {'rank': 0, 'subtype': 'tmagArticle', 'caption': None, 'credit': None, 'type': 'image', 'url': 'images/2016/12/22/travel/360-santa/360-santa-tmagArticle.jpg', 'height': 395, 'width': 592, 'legacy': {}, 'subType': 'tmagArticle', 'crop_name': 'tmagArticle'}, {'rank': 0, 'subtype': 'tmagSF', 'caption': None, 'credit': None, 'type': 'image', 'url': 'images/2016/12/22/travel/360-santa/360-santa-tmagSF.jpg', 'height': 241, 'width': 362, 'legacy': {}, 'subType': 'tmagSF', 'crop_name': 'tmagSF'}, {'rank': 0, 'subtype': 'verticalTwoByThree735', 'caption': None, 'credit': None, 'type': 'image', 'url': 'images/2016/12/22/travel/360-santa/360-santa-verticalTwoByThree735-v2.jpg', 'height': 1103, 'width': 735, 'legacy': {}, 'subType': 'verticalTwoByThree735', 'crop_name': 'verticalTwoByThree735'}, {'rank': 0, 'subtype': 'videoFifteenBySeven1305', 'caption': None, 'credit': None, 'type': 'image', 'url': 'images/2016/12/22/travel/360-santa/360-santa-videoFifteenBySeven1305.jpg', 'height': 609, 'width': 1305, 'legacy': {}, 'subType': 'videoFifteenBySeven1305', 'crop_name': 'videoFifteenBySeven1305'}, {'rank': 0, 'subtype': 'videoFifteenBySeven2610', 'caption': None, 'credit': None, 'type': 'image', 'url': 'images/2016/12/22/travel/360-santa/360-santa-videoFifteenBySeven2610.jpg', 'height': 1218, 'width': 2610, 'legacy': {}, 'subType': 'videoFifteenBySeven2610', 'crop_name': 'videoFifteenBySeven2610'}, {'rank': 0, 'subtype': 'videoHpMedium', 'caption': None, 'credit': None, 'type': 'image', 'url': 'images/2016/12/22/travel/360-santa/360-santa-videoHpMedium.jpg', 'height': 211, 'width': 375, 'legacy': {}, 'subType': 'videoHpMedium', 'crop_name': 'videoHpMedium'}, {'rank': 0, 'subtype': 'videoLarge', 'caption': None, 'credit': None, 'type': 'image', 'url': 'images/2016/12/22/travel/360-santa/360-santa-videoLarge.jpg', 'height': 507, 'width': 768, 'legacy': {}, 'subType': 'videoLarge', 'crop_name': 'videoLarge'}, {'rank': 0, 'subtype': 'videoSixteenByNine1050', 'caption': None, 'credit': None, 'type': 'image', 'url': 'images/2016/12/22/travel/360-santa/360-santa-videoSixteenByNine1050.jpg', 'height': 591, 'width': 1050, 'legacy': {}, 'subType': 'videoSixteenByNine1050', 'crop_name': 'videoSixteenByNine1050'}, {'rank': 0, 'subtype': 'videoSixteenByNine150', 'caption': None, 'credit': None, 'type': 'image', 'url': 'images/2016/12/22/travel/360-santa/360-santa-videoSixteenByNine150.jpg', 'height': 84, 'width': 150, 'legacy': {}, 'subType': 'videoSixteenByNine150', 'crop_name': 'videoSixteenByNine150'}, {'rank': 0, 'subtype': 'videoSixteenByNine225', 'caption': None, 'credit': None, 'type': 'image', 'url': 'images/2016/12/22/travel/360-santa/360-santa-videoSixteenByNine225.jpg', 'height': 126, 'width': 225, 'legacy': {}, 'subType': 'videoSixteenByNine225', 'crop_name': 'videoSixteenByNine225'}, {'rank': 0, 'subtype': 'videoSixteenByNine3000', 'caption': None, 'credit': None, 'type': 'image', 'url': 'images/2016/12/22/travel/360-santa/360-santa-videoSixteenByNine3000.jpg', 'height': 1688, 'width': 3000, 'legacy': {}, 'subType': 'videoSixteenByNine3000', 'crop_name': 'videoSixteenByNine3000'}, {'rank': 0, 'subtype': 'videoSixteenByNine310', 'caption': None, 'credit': None, 'type': 'image', 'url': 'images/2016/12/22/travel/360-santa/360-santa-videoSixteenByNine310.jpg', 'height': 174, 'width': 310, 'legacy': {}, 'subType': 'videoSixteenByNine310', 'crop_name': 'videoSixteenByNine310'}, {'rank': 0, 'subtype': 'videoSixteenByNine390', 'caption': None, 'credit': None, 'type': 'image', 'url': 'images/2016/12/22/travel/360-santa/360-santa-videoSixteenByNine390.jpg', 'height': 219, 'width': 390, 'legacy': {}, 'subType': 'videoSixteenByNine390', 'crop_name': 'videoSixteenByNine390'}, {'rank': 0, 'subtype': 'videoSixteenByNine480', 'caption': None, 'credit': None, 'type': 'image', 'url': 'images/2016/12/22/travel/360-santa/360-santa-videoSixteenByNine480.jpg', 'height': 270, 'width': 480, 'legacy': {}, 'subType': 'videoSixteenByNine480', 'crop_name': 'videoSixteenByNine480'}, {'rank': 0, 'subtype': 'videoSixteenByNine495', 'caption': None, 'credit': None, 'type': 'image', 'url': 'images/2016/12/22/travel/360-santa/360-santa-videoSixteenByNine495.jpg', 'height': 278, 'width': 495, 'legacy': {}, 'subType': 'videoSixteenByNine495', 'crop_name': 'videoSixteenByNine495'}, {'rank': 0, 'subtype': 'videoSixteenByNine540', 'caption': None, 'credit': None, 'type': 'image', 'url': 'images/2016/12/22/travel/360-santa/360-santa-videoSixteenByNine540.jpg', 'height': 304, 'width': 540, 'legacy': {}, 'subType': 'videoSixteenByNine540', 'crop_name': 'videoSixteenByNine540'}, {'rank': 0, 'subtype': 'videoSixteenByNine600', 'caption': None, 'credit': None, 'type': 'image', 'url': 'images/2016/12/22/travel/360-santa/360-santa-videoSixteenByNine600.jpg', 'height': 338, 'width': 600, 'legacy': {}, 'subType': 'videoSixteenByNine600', 'crop_name': 'videoSixteenByNine600'}, {'rank': 0, 'subtype': 'videoSixteenByNine768', 'caption': None, 'credit': None, 'type': 'image', 'url': 'images/2016/12/22/travel/360-santa/360-santa-videoSixteenByNine768.jpg', 'height': 432, 'width': 768, 'legacy': {}, 'subType': 'videoSixteenByNine768', 'crop_name': 'videoSixteenByNine768'}, {'rank': 0, 'subtype': 'videoSixteenByNine96', 'caption': None, 'credit': None, 'type': 'image', 'url': 'images/2016/12/22/travel/360-santa/360-santa-videoSixteenByNine96.jpg', 'height': 54, 'width': 96, 'legacy': {}, 'subType': 'videoSixteenByNine96', 'crop_name': 'videoSixteenByNine96'}, {'rank': 0, 'subtype': 'videoSixteenByNineJumbo1600', 'caption': None, 'credit': None, 'type': 'image', 'url': 'images/2016/12/22/travel/360-santa/360-santa-videoSixteenByNineJumbo1600.jpg', 'height': 900, 'width': 1600, 'legacy': {}, 'subType': 'videoSixteenByNineJumbo1600', 'crop_name': 'videoSixteenByNineJumbo1600'}, {'rank': 0, 'subtype': 'videoSmall', 'caption': None, 'credit': None, 'type': 'image', 'url': 'images/2016/12/22/travel/360-santa/360-santa-videoSmall.jpg', 'height': 281, 'width': 500, 'legacy': {}, 'subType': 'videoSmall', 'crop_name': 'videoSmall'}, {'rank': 0, 'subtype': 'videoThumb', 'caption': None, 'credit': None, 'type': 'image', 'url': 'images/2016/12/22/travel/360-santa/360-santa-videoThumb.jpg', 'height': 50, 'width': 75, 'legacy': {}, 'subType': 'videoThumb', 'crop_name': 'videoThumb'}, {'rank': 0, 'subtype': 'watch268', 'caption': None, 'credit': None, 'type': 'image', 'url': 'images/2016/12/22/travel/360-santa/360-santa-watch268.jpg', 'height': 303, 'width': 272, 'legacy': {}, 'subType': 'watch268', 'crop_name': 'watch268'}, {'rank': 0, 'subtype': 'watch308', 'caption': None, 'credit': None, 'type': 'image', 'url': 'images/2016/12/22/travel/360-santa/360-santa-watch308.jpg', 'height': 348, 'width': 312, 'legacy': {}, 'subType': 'watch308', 'crop_name': 'watch308'}, {'rank': 0, 'subtype': 'windowsTile336H', 'caption': None, 'credit': None, 'type': 'image', 'url': 'images/2016/12/22/travel/360-santa/360-santa-windowsTile336H.jpg', 'height': 336, 'width': 694, 'legacy': {}, 'subType': 'windowsTile336H', 'crop_name': 'windowsTile336H'}], 'headline': {'main': 'Sit With Santa at the Arctic Circle', 'kicker': None, 'content_kicker': None, 'print_headline': None, 'name': None, 'seo': None, 'sub': None}, 'keywords': [{'name': 'glocations', 'value': 'Finland', 'rank': 1, 'major': 'N'}, {'name': 'subject', 'value': 'Christmas', 'rank': 2, 'major': 'N'}, {'name': 'subject', 'value': 'Santa Claus', 'rank': 3, 'major': 'N'}], 'pub_date': '2016-12-22T10:00:34+0000', 'document_type': 'multimedia', 'section_name': 'Travel', 'byline': {'original': 'By DREW GARDNER, KAITLYN MULLIN and MAUREEN TOWEY', 'person': [{'firstname': 'Drew', 'middlename': None, 'lastname': 'GARDNER', 'qualifier': None, 'title': None, 'role': 'reported', 'organization': '', 'rank': 1}, {'firstname': 'Kaitlyn', 'middlename': None, 'lastname': 'MULLIN', 'qualifier': None, 'title': None, 'role': 'reported', 'organization': '', 'rank': 2}, {'firstname': 'Maureen', 'middlename': None, 'lastname': 'TOWEY', 'qualifier': None, 'title': None, 'role': 'reported', 'organization': '', 'rank': 3}], 'organization': None}, 'type_of_material': 'Video', '_id': '585ba44e7c459f2525d132ee', 'word_count': 0, 'score': 0.0, 'uri': 'nyt://video/a934ab87-8e50-5d93-955c-ea540255b95b'}, {'web_url': 'https://www.nytimes.com/slideshow/2016/12/22/t-magazine/fashion/best-models-rianne-van-rompaey-selena-forrest-jean-campbell.html', 'snippet': 'From new faces to ones we know well, the names that caught T’s attention in 2016.', 'lead_paragraph': 'From new faces to ones we know well, the names that caught T’s attention in 2016.', 'blog': {}, 'source': 'The New York Times', 'multimedia': [{'rank': 0, 'subtype': 'wide', 'caption': None, 'credit': None, 'type': 'image', 'url': 'images/2016/12/15/t-magazine/fashion/15tmag-bestfashion-slide-QOJF/15tmag-bestfashion-slide-QOJF-thumbWide.jpg', 'height': 126, 'width': 190, 'legacy': {'wide': 'images/2016/12/15/t-magazine/fashion/15tmag-bestfashion-slide-QOJF/15tmag-bestfashion-slide-QOJF-thumbWide.jpg', 'wideheight': '126', 'widewidth': '190'}, 'subType': 'wide', 'crop_name': None}, {'rank': 0, 'subtype': 'xlarge', 'caption': None, 'credit': None, 'type': 'image', 'url': 'images/2016/12/15/t-magazine/fashion/15tmag-bestfashion-slide-QOJF/15tmag-bestfashion-slide-QOJF-articleLarge.jpg', 'height': 706, 'width': 600, 'legacy': {'xlargewidth': '600', 'xlarge': 'images/2016/12/15/t-magazine/fashion/15tmag-bestfashion-slide-QOJF/15tmag-bestfashion-slide-QOJF-articleLarge.jpg', 'xlargeheight': '706'}, 'subType': 'xlarge', 'crop_name': None}, {'rank': 0, 'subtype': 'thumbnail', 'caption': None, 'credit': None, 'type': 'image', 'url': 'images/2016/12/15/t-magazine/fashion/15tmag-bestfashion-slide-QOJF/15tmag-bestfashion-slide-QOJF-thumbStandard.jpg', 'height': 75, 'width': 75, 'legacy': {'thumbnailheight': '75', 'thumbnail': 'images/2016/12/15/t-magazine/fashion/15tmag-bestfashion-slide-QOJF/15tmag-bestfashion-slide-QOJF-thumbStandard.jpg', 'thumbnailwidth': '75'}, 'subType': 'thumbnail', 'crop_name': None}], 'headline': {'main': 'Ten Models We Loved a Lot This Year', 'kicker': None, 'content_kicker': None, 'print_headline': None, 'name': None, 'seo': None, 'sub': None}, 'keywords': [{'name': 'subject', 'value': 'Models (Professional)', 'rank': 1, 'major': None}, {'name': 'subject', 'value': 'Beauty (Concept)', 'rank': 2, 'major': None}, {'name': 'subject', 'value': 'Fashion and Apparel', 'rank': 3, 'major': None}], 'pub_date': '2016-12-22T11:00:37+0000', 'document_type': 'multimedia', 'news_desk': 'T Magazine / Fashion & Beauty', 'section_name': 'T Magazine', 'subsectoinName': 'Fashion & Beauty', 'byline': {'original': None, 'person': None, 'organization': None}, 'type_of_material': 'Slideshow', '_id': '585bb25f7c459f2525d13311', 'word_count': 16, 'slideshow_credits': 'Photograph by Karim Sadli. Styled by Marie-Amélie Sauvé', 'score': 0.0}, {'web_url': 'https://www.nytimes.com/video/dining/100000004825906/potted-shrimp-recipe.html', 'snippet': 'The addition of anchovies, lemon zest, thyme and garlic brings a new twist to this buttery British classic.', 'lead_paragraph': 'The addition of anchovies, lemon zest, thyme and garlic brings a new twist to this buttery British classic.', 'print_page': '0', 'blog': {}, 'source': 'The New York Times', 'multimedia': [{'rank': 0, 'subtype': 'thumbnail', 'caption': None, 'credit': None, 'type': 'image', 'url': 'images/2016/12/23/dining/spiced-potted-shrimp/spiced-potted-shrimp-thumbStandard.jpg', 'height': 75, 'width': 75, 'legacy': {'thumbnailheight': 75, 'thumbnail': 'images/2016/12/23/dining/spiced-potted-shrimp/spiced-potted-shrimp-thumbStandard.jpg', 'thumbnailwidth': 75}, 'subType': 'thumbnail', 'crop_name': None}, {'rank': 0, 'subtype': 'xlarge', 'caption': None, 'credit': None, 'type': 'image', 'url': 'images/2016/12/23/dining/spiced-potted-shrimp/spiced-potted-shrimp-articleLarge.jpg', 'height': 400, 'width': 600, 'legacy': {'xlargewidth': 600, 'xlarge': 'images/2016/12/23/dining/spiced-potted-shrimp/spiced-potted-shrimp-articleLarge.jpg', 'xlargeheight': 400}, 'subType': 'xlarge', 'crop_name': None}, {'rank': 0, 'subtype': 'wide', 'caption': None, 'credit': None, 'type': 'image', 'url': 'images/2016/12/23/dining/spiced-potted-shrimp/spiced-potted-shrimp-thumbWide.jpg', 'height': 126, 'width': 190, 'legacy': {'wide': 'images/2016/12/23/dining/spiced-potted-shrimp/spiced-potted-shrimp-thumbWide.jpg', 'widewidth': 190, 'wideheight': 126}, 'subType': 'wide', 'crop_name': None}], 'headline': {'main': 'Spiced Potted Shrimp', 'kicker': None, 'content_kicker': None, 'print_headline': None, 'name': None, 'seo': None, 'sub': None}, 'keywords': [{'name': 'subject', 'value': 'Seafood', 'rank': 1, 'major': 'N'}, {'name': 'subject', 'value': 'Garlic', 'rank': 2, 'major': 'N'}, {'name': 'glocations', 'value': 'Great Britain', 'rank': 3, 'major': 'N'}, {'name': 'subject', 'value': 'Shrimp', 'rank': 4, 'major': 'N'}], 'pub_date': '2016-12-22T18:39:15+0000', 'document_type': 'multimedia', 'section_name': 'Food', 'byline': {'original': 'By ALEC COHEN', 'person': [{'firstname': 'Alec', 'middlename': None, 'lastname': 'COHEN', 'qualifier': None, 'title': None, 'role': 'reported', 'organization': '', 'rank': 1}], 'organization': None}, 'type_of_material': 'Video', '_id': '585c1dd77c459f2525d13438', 'word_count': 18, 'score': 0.0}, {'web_url': 'https://www.nytimes.com/video/world/europe/100000004836957/the-tunisian-man-sought-in-berlin-attack.html', 'snippet': 'German authorities have named Anis Amri, a 23-year-old Tunisian, as the main suspect in an attack that left 12 dead and 48 injured. Officials say his fingerprints were found in a truck that plowed into a Christmas market Monday.', 'lead_paragraph': 'German authorities have named Anis Amri, a 23-year-old Tunisian, as the main suspect in an attack that left 12 dead and 48 injured. Officials say his fingerprints were found in a truck that plowed into a Christmas market Monday.', 'print_page': '0', 'blog': {}, 'source': 'The New York Times', 'multimedia': [{'rank': 0, 'subtype': 'thumbnail', 'caption': None, 'credit': None, 'type': 'image', 'url': 'images/2016/12/23/world/23Amri1/23Amri1-thumbStandard.jpg', 'height': 75, 'width': 75, 'legacy': {'thumbnailheight': 75, 'thumbnail': 'images/2016/12/23/world/23Amri1/23Amri1-thumbStandard.jpg', 'thumbnailwidth': 75}, 'subType': 'thumbnail', 'crop_name': None}, {'rank': 0, 'subtype': 'xlarge', 'caption': None, 'credit': None, 'type': 'image', 'url': 'images/2016/12/23/world/23Amri1/23Amri1-articleLarge.jpg', 'height': 399, 'width': 600, 'legacy': {'xlargewidth': 600, 'xlarge': 'images/2016/12/23/world/23Amri1/23Amri1-articleLarge.jpg', 'xlargeheight': 399}, 'subType': 'xlarge', 'crop_name': None}, {'rank': 0, 'subtype': 'wide', 'caption': None, 'credit': None, 'type': 'image', 'url': 'images/2016/12/23/world/23Amri1/23Amri1-thumbWide.jpg', 'height': 126, 'width': 190, 'legacy': {'wide': 'images/2016/12/23/world/23Amri1/23Amri1-thumbWide.jpg', 'widewidth': 190, 'wideheight': 126}, 'subType': 'wide', 'crop_name': None}], 'headline': {'main': 'The Tunisian Man Sought in Berlin Attack', 'kicker': None, 'content_kicker': None, 'print_headline': None, 'name': None, 'seo': None, 'sub': None}, 'keywords': [{'name': 'glocations', 'value': 'Germany', 'rank': 1, 'major': 'N'}, {'name': 'glocations', 'value': 'Berlin (Germany)', 'rank': 2, 'major': 'N'}], 'pub_date': '2016-12-22T19:21:21+0000', 'document_type': 'multimedia', 'news_desk': 'World / Europe', 'section_name': 'World', 'subsectoinName': 'Europe', 'byline': {'original': 'By CAMILLA SCHICK and MEGAN SPECIA', 'person': [{'firstname': 'Camilla', 'middlename': None, 'lastname': 'SCHICK', 'qualifier': None, 'title': None, 'role': 'reported', 'organization': '', 'rank': 1}, {'firstname': 'Megan', 'middlename': None, 'lastname': 'SPECIA', 'qualifier': None, 'title': None, 'role': 'reported', 'organization': '', 'rank': 2}], 'organization': None}, 'type_of_material': 'Video', '_id': '585c27b67c459f2525d13455', 'word_count': 39, 'score': 0.0}, {'web_url': 'https://www.nytimes.com/video/automobiles/autoreviews/100000004830740/driven-infiniti-qx30.html', 'snippet': 'The QX30 was born of a partnership with Daimler, although Infiniti made the platform theirs by changing the suspension, steering and transmission calibration.', 'lead_paragraph': 'The QX30 was born of a partnership with Daimler, although Infiniti made the platform theirs by changing the suspension, steering and transmission calibration.', 'print_page': '0', 'blog': {}, 'source': 'The New York Times', 'multimedia': [{'rank': 0, 'subtype': 'thumbnail', 'caption': None, 'credit': None, 'type': 'image', 'url': 'images/2016/12/23/automobiles/autoreviews/23driven/23driven-thumbStandard.jpg', 'height': 75, 'width': 75, 'legacy': {'thumbnailheight': 75, 'thumbnail': 'images/2016/12/23/automobiles/autoreviews/23driven/23driven-thumbStandard.jpg', 'thumbnailwidth': 75}, 'subType': 'thumbnail', 'crop_name': None}, {'rank': 0, 'subtype': 'xlarge', 'caption': None, 'credit': None, 'type': 'image', 'url': 'images/2016/12/23/automobiles/autoreviews/23driven/23driven-articleLarge.jpg', 'height': 323, 'width': 600, 'legacy': {'xlargewidth': 600, 'xlarge': 'images/2016/12/23/automobiles/autoreviews/23driven/23driven-articleLarge.jpg', 'xlargeheight': 323}, 'subType': 'xlarge', 'crop_name': None}, {'rank': 0, 'subtype': 'wide', 'caption': None, 'credit': None, 'type': 'image', 'url': 'images/2016/12/23/automobiles/autoreviews/23driven/23driven-thumbWide.jpg', 'height': 126, 'width': 190, 'legacy': {'wide': 'images/2016/12/23/automobiles/autoreviews/23driven/23driven-thumbWide.jpg', 'widewidth': 190, 'wideheight': 126}, 'subType': 'wide', 'crop_name': None}], 'headline': {'main': 'Driven | Infiniti QX30', 'kicker': None, 'content_kicker': None, 'print_headline': None, 'name': None, 'seo': None, 'sub': None}, 'keywords': [{'name': 'organizations', 'value': 'Infiniti Division of Nissan Motor Co', 'rank': 1, 'major': 'N'}, {'name': 'subject', 'value': 'Automobiles', 'rank': 2, 'major': 'N'}, {'name': 'subject', 'value': '2017 Infiniti QX30', 'rank': 3, 'major': 'N'}], 'pub_date': '2016-12-22T19:50:38+0000', 'document_type': 'multimedia', 'news_desk': 'Automobiles / New Cars', 'section_name': 'Automobiles', 'subsectoinName': 'New Cars', 'byline': {'original': 'By TOM VOELK', 'person': [{'firstname': 'Tom', 'middlename': None, 'lastname': 'VOELK', 'qualifier': None, 'title': None, 'role': 'reported', 'organization': '', 'rank': 1}], 'organization': None}, 'type_of_material': 'Video', '_id': '585c2e927c459f2525d1346a', 'word_count': 23, 'score': 0.0}, {'web_url': 'https://www.nytimes.com/interactive/2016/12/22/opinion/22danon-hebrew.html', 'snippet': 'ישראל מקבלת בברכה את מזכ\"ל האו\"ם החדש, אנטוניו גוטרש, כהזדמנות לשינוי היסטורי ביחסי האו\"ם וישראל', 'lead_paragraph': 'ישראל מקבלת בברכה את מזכ\"ל האו\"ם החדש, אנטוניו גוטרש, כהזדמנות לשינוי היסטורי ביחסי האו\"ם וישראל', 'blog': {}, 'source': 'The New York Times', 'multimedia': [{'rank': 0, 'subtype': 'wide', 'caption': None, 'credit': None, 'type': 'image', 'url': 'images/2016/12/22/opinion/22danon-inyt-copy/22danon-inyt-thumbWide.jpg', 'height': 126, 'width': 190, 'legacy': {'wide': 'images/2016/12/22/opinion/22danon-inyt-copy/22danon-inyt-thumbWide.jpg', 'wideheight': '126', 'widewidth': '190'}, 'subType': 'wide', 'crop_name': None}, {'rank': 0, 'subtype': 'xlarge', 'caption': None, 'credit': None, 'type': 'image', 'url': 'images/2016/12/22/opinion/22danon-inyt-copy/22danon-inyt-articleLarge.jpg', 'height': 400, 'width': 600, 'legacy': {'xlargewidth': '600', 'xlarge': 'images/2016/12/22/opinion/22danon-inyt-copy/22danon-inyt-articleLarge.jpg', 'xlargeheight': '400'}, 'subType': 'xlarge', 'crop_name': None}, {'rank': 0, 'subtype': 'thumbnail', 'caption': None, 'credit': None, 'type': 'image', 'url': 'images/2016/12/22/opinion/22danon-inyt-copy/22danon-inyt-thumbStandard.jpg', 'height': 75, 'width': 75, 'legacy': {'thumbnailheight': '75', 'thumbnail': 'images/2016/12/22/opinion/22danon-inyt-copy/22danon-inyt-thumbStandard.jpg', 'thumbnailwidth': '75'}, 'subType': 'thumbnail', 'crop_name': None}], 'headline': {'main': 'ישראל מוכנה לדף חדש באו\"ם', 'kicker': 'Op-Ed Contributor', 'content_kicker': None, 'print_headline': None, 'name': None, 'seo': None, 'sub': None}, 'keywords': [], 'pub_date': '2016-12-22T20:12:48+0000', 'document_type': 'multimedia', 'news_desk': 'Opinion', 'section_name': 'Opinion', 'byline': {'original': 'By DANNY DANON', 'person': [{'firstname': 'Danny', 'middlename': None, 'lastname': 'DANON', 'qualifier': None, 'title': None, 'role': 'reported', 'organization': '', 'rank': 1}], 'organization': None}, 'type_of_material': 'Interactive Feature', '_id': '585c33cc7c459f2525d1347f', 'word_count': 0, 'score': 0.0}, {'web_url': 'https://www.nytimes.com/video/world/100000004837021/animals-enjoy-holiday-treats.html', 'snippet': 'Animals at the Taronga Zoo in Sydney, Australia, the London Zoo, and the Perth Zoo in Western Australia, enjoy presents and special treats, just in time for the holidays.', 'lead_paragraph': 'Animals at the Taronga Zoo in Sydney, Australia, the London Zoo, and the Perth Zoo in Western Australia, enjoy presents and special treats, just in time for the holidays.', 'blog': {}, 'source': 'Reuters', 'multimedia': [{'rank': 0, 'subtype': 'wide', 'caption': None, 'credit': None, 'type': 'image', 'url': 'images/2016/12/23/world/23zoo-christmas/23zoo-christmas-thumbWide.jpg', 'height': 126, 'width': 190, 'legacy': {'wide': 'images/2016/12/23/world/23zoo-christmas/23zoo-christmas-thumbWide.jpg', 'wideheight': '126', 'widewidth': '190'}, 'subType': 'wide', 'crop_name': None}, {'rank': 0, 'subtype': 'xlarge', 'caption': None, 'credit': None, 'type': 'image', 'url': 'images/2016/12/23/world/23zoo-christmas/23zoo-christmas-articleLarge.jpg', 'height': 434, 'width': 600, 'legacy': {'xlargewidth': '600', 'xlarge': 'images/2016/12/23/world/23zoo-christmas/23zoo-christmas-articleLarge.jpg', 'xlargeheight': '434'}, 'subType': 'xlarge', 'crop_name': None}, {'rank': 0, 'subtype': 'thumbnail', 'caption': None, 'credit': None, 'type': 'image', 'url': 'images/2016/12/23/world/23zoo-christmas/23zoo-christmas-thumbStandard.jpg', 'height': 75, 'width': 75, 'legacy': {'thumbnailheight': '75', 'thumbnail': 'images/2016/12/23/world/23zoo-christmas/23zoo-christmas-thumbStandard.jpg', 'thumbnailwidth': '75'}, 'subType': 'thumbnail', 'crop_name': None}], 'headline': {'main': 'Animals Enjoy Holiday Treats', 'kicker': None, 'content_kicker': None, 'print_headline': None, 'name': None, 'seo': None, 'sub': None}, 'keywords': [{'name': 'subject', 'value': 'Animals', 'rank': 1, 'major': None}, {'name': 'subject', 'value': 'Christmas', 'rank': 2, 'major': None}, {'name': 'subject', 'value': 'Zoos', 'rank': 3, 'major': None}], 'pub_date': '2016-12-22T22:28:42+0000', 'document_type': 'multimedia', 'news_desk': 'World', 'section_name': 'World', 'byline': {'original': 'By REUTERS and THE ASSOCIATED PRESS', 'person': [], 'organization': 'REUTERS'}, 'type_of_material': 'Video', '_id': '585c539e7c459f2525d134c3', 'word_count': 29, 'score': 0.0}, {'web_url': 'https://www.nytimes.com/video/movies/100000004837553/anatomy-of-a-scene-patriots-day.html', 'snippet': 'Peter Berg narrates a scene from the film featuring Mark Wahlberg.', 'lead_paragraph': 'Peter Berg narrates a scene from the film featuring Mark Wahlberg.', 'print_page': '0', 'blog': {}, 'source': 'The New York Times', 'multimedia': [{'rank': 0, 'subtype': 'thumbnail', 'caption': None, 'credit': None, 'type': 'image', 'url': 'images/2016/12/23/arts/patriots-anatomy/patriots-anatomy-thumbStandard.jpg', 'height': 75, 'width': 75, 'legacy': {'thumbnailheight': 75, 'thumbnail': 'images/2016/12/23/arts/patriots-anatomy/patriots-anatomy-thumbStandard.jpg', 'thumbnailwidth': 75}, 'subType': 'thumbnail', 'crop_name': None}, {'rank': 0, 'subtype': 'xlarge', 'caption': None, 'credit': None, 'type': 'image', 'url': 'images/2016/12/23/arts/patriots-anatomy/patriots-anatomy-articleLarge.jpg', 'height': 337, 'width': 600, 'legacy': {'xlargewidth': 600, 'xlarge': 'images/2016/12/23/arts/patriots-anatomy/patriots-anatomy-articleLarge.jpg', 'xlargeheight': 337}, 'subType': 'xlarge', 'crop_name': None}, {'rank': 0, 'subtype': 'wide', 'caption': None, 'credit': None, 'type': 'image', 'url': 'images/2016/12/23/arts/patriots-anatomy/patriots-anatomy-thumbWide.jpg', 'height': 126, 'width': 190, 'legacy': {'wide': 'images/2016/12/23/arts/patriots-anatomy/patriots-anatomy-thumbWide.jpg', 'widewidth': 190, 'wideheight': 126}, 'subType': 'wide', 'crop_name': None}], 'headline': {'main': 'Anatomy of a Scene | ‘Patriots Day’', 'kicker': None, 'content_kicker': None, 'print_headline': None, 'name': None, 'seo': None, 'sub': None}, 'keywords': [{'name': 'subject', 'value': 'Movies', 'rank': 1, 'major': 'N'}, {'name': 'persons', 'value': 'Berg, Peter', 'rank': 2, 'major': 'N'}, {'name': 'persons', 'value': 'Wahlberg, Mark', 'rank': 3, 'major': 'N'}, {'name': 'creative_works', 'value': 'Patriots Day (Movie)', 'rank': 4, 'major': 'N'}], 'pub_date': '2016-12-22T23:00:19+0000', 'document_type': 'multimedia', 'section_name': 'Movies', 'byline': {'original': 'By MEKADO MURPHY', 'person': [{'firstname': 'Mekado', 'middlename': None, 'lastname': 'MURPHY', 'qualifier': None, 'title': None, 'role': 'reported', 'organization': '', 'rank': 1}], 'organization': None}, 'type_of_material': 'Video', '_id': '585c5b0a7c459f2525d134d8', 'word_count': 11, 'score': 0.0}, {'web_url': 'https://iht-retrospective.blogs.nytimes.com/2016/12/22/1891-woman-weds-her-sisters-husbands-son/', 'snippet': 'From the archives of The International Herald Tribune: Arrangements are made in Washington for the wedding of Miss Enid Hunt to her sister’s husband’s son in December 1891.', 'blog': {}, 'source': 'The New York Times', 'multimedia': [{'rank': 0, 'subtype': 'wide', 'caption': None, 'credit': None, 'type': 'image', 'url': 'images/2016/12/22/blogs/22olddec-1891-wmhunt/22olddec-1891-wmhunt-thumbWide.jpg', 'height': 126, 'width': 190, 'legacy': {'wide': 'images/2016/12/22/blogs/22olddec-1891-wmhunt/22olddec-1891-wmhunt-thumbWide.jpg', 'wideheight': '126', 'widewidth': '190'}, 'subType': 'wide', 'crop_name': None}, {'rank': 0, 'subtype': 'thumbnail', 'caption': None, 'credit': None, 'type': 'image', 'url': 'images/2016/12/22/blogs/22olddec-1891-wmhunt/22olddec-1891-wmhunt-thumbStandard-v2.jpg', 'height': 75, 'width': 75, 'legacy': {'thumbnailheight': '75', 'thumbnail': 'images/2016/12/22/blogs/22olddec-1891-wmhunt/22olddec-1891-wmhunt-thumbStandard-v2.jpg', 'thumbnailwidth': '75'}, 'subType': 'thumbnail', 'crop_name': None}], 'headline': {'main': '1891: Woman Weds Her Sister&#8217;s Husband&#8217;s Son', 'kicker': 'IHT Retrospective', 'content_kicker': None, 'print_headline': None, 'name': None, 'seo': None, 'sub': None}, 'keywords': [{'name': 'glocations', 'value': 'Boston (Mass)', 'rank': 1, 'major': None}, {'name': 'glocations', 'value': 'Washington (DC)', 'rank': 2, 'major': None}], 'pub_date': '2016-12-22T15:36:28+0000', 'document_type': 'blogpost', 'news_desk': 'Foreign', 'section_name': 'World', 'byline': {'original': 'By INTERNATIONAL HERALD TRIBUNE', 'person': [{'firstname': 'International', 'middlename': 'Herald', 'lastname': 'TRIBUNE', 'qualifier': None, 'title': None, 'role': 'reported', 'organization': '', 'rank': 1}], 'organization': None}, 'type_of_material': 'Blog', '_id': '585bf3067c459f2525d133b5', 'word_count': 250, 'score': 0.0}]\n",
      "{'hits': 195, 'offset': 0, 'time': 5}\n"
     ]
    }
   ],
   "source": [
    "#looking at docs\n",
    "docs = response['docs']\n",
    "print(docs)\n",
    "\n",
    "#looking at meta\n",
    "meta=response['meta']\n",
    "print(meta)"
   ]
  },
  {
   "cell_type": "code",
   "execution_count": 68,
   "metadata": {},
   "outputs": [
    {
     "data": {
      "text/plain": [
       "list"
      ]
     },
     "execution_count": 68,
     "metadata": {},
     "output_type": "execute_result"
    }
   ],
   "source": [
    "#looking at docs\n",
    "type(docs)"
   ]
  },
  {
   "cell_type": "code",
   "execution_count": 71,
   "metadata": {},
   "outputs": [
    {
     "data": {
      "text/plain": [
       "dict"
      ]
     },
     "execution_count": 71,
     "metadata": {},
     "output_type": "execute_result"
    }
   ],
   "source": [
    "#looking at a single element\n",
    "type(docs[0])"
   ]
  },
  {
   "cell_type": "code",
   "execution_count": 73,
   "metadata": {},
   "outputs": [
    {
     "data": {
      "text/plain": [
       "dict_keys(['web_url', 'snippet', 'lead_paragraph', 'blog', 'source', 'multimedia', 'headline', 'keywords', 'pub_date', 'document_type', 'news_desk', 'section_name', 'byline', 'type_of_material', '_id', 'word_count', 'slideshow_credits', 'score'])"
      ]
     },
     "execution_count": 73,
     "metadata": {},
     "output_type": "execute_result"
    }
   ],
   "source": [
    "sample_docs=docs[0]\n",
    "sample_docs.keys()\n"
   ]
  },
  {
   "cell_type": "markdown",
   "metadata": {},
   "source": [
    "## The main part\n",
    "We need to use a page arguement in the query as well to get results as each page only displays 10 documents"
   ]
  },
  {
   "cell_type": "code",
   "execution_count": 168,
   "metadata": {},
   "outputs": [
    {
     "name": "stdout",
     "output_type": "stream",
     "text": [
      "Please enter a date in mm-dd-yyyy format\n",
      "02-14-1997\n"
     ]
    }
   ],
   "source": [
    "date_str=input('Please enter a date in mm-dd-yyyy format\\n')\n",
    "date_trimmed=date_str[6:]+date_str[0:2]+date_str[3:5]\n",
    "DATE=date_trimmed\n",
    "\n",
    "PREFIX=\"http://api.nytimes.com/svc/search/v2/articlesearch.json?begin_date=\"\n",
    "CENTER=\"&end_date=\"\n",
    "SUFFIX=\"&api-key=\""
   ]
  },
  {
   "cell_type": "code",
   "execution_count": 169,
   "metadata": {},
   "outputs": [],
   "source": [
    "#getting the json file by making request to the api\n",
    "response_json=requests.get(url).json()"
   ]
  },
  {
   "cell_type": "code",
   "execution_count": 170,
   "metadata": {},
   "outputs": [
    {
     "name": "stdout",
     "output_type": "stream",
     "text": [
      "234\n"
     ]
    }
   ],
   "source": [
    "#finding total number of documents\n",
    "num_docs=response_json['response']['meta']['hits']\n",
    "print(num_docs)\n",
    "\n",
    "#adding the documents on first page in a newly created list of all document\n",
    "docs=response_json['response']['docs']"
   ]
  },
  {
   "cell_type": "code",
   "execution_count": 171,
   "metadata": {},
   "outputs": [],
   "source": [
    "#since each page contains 10 queries\n",
    "if num_docs%10 is 0:\n",
    "    adjuster=1\n",
    "else:\n",
    "    adjuster=0\n",
    "\n",
    "total_pages = int(num_docs/10)+1-adjuster"
   ]
  },
  {
   "cell_type": "code",
   "execution_count": 172,
   "metadata": {},
   "outputs": [
    {
     "name": "stdout",
     "output_type": "stream",
     "text": [
      "Waiting for 1 minute before making another request\n",
      "Waiting for 1 minute before making another request\n"
     ]
    }
   ],
   "source": [
    "for page in range(1,total_pages):\n",
    "    #creating the url, basically page arguement allows us to get different documents\n",
    "    #page=0 gives first 10, page=1 gives next 10 and so on\n",
    "    url=PREFIX+DATE+CENTER+DATE+\"&page=\"+str(page)+SUFFIX+API_KEY\n",
    "    response_json=requests.get(url).json()\n",
    "    \n",
    "    #Okay so nytimes allows only 10 queries in a minute(and only 4000 in a day)\n",
    "    #so let's wait a minute before making the same query again\n",
    "    if not 'response' in response_json.keys():\n",
    "        print(\"Waiting for 1 minute before making another request\")\n",
    "        time.sleep(60)\n",
    "        response_json=requests.get(url).json()        \n",
    "    \n",
    "    #adding these documents to our list as well\n",
    "    new_docs = response_json['response']['docs']\n",
    "    docs.extend(new_docs)\n",
    "    "
   ]
  },
  {
   "cell_type": "code",
   "execution_count": 180,
   "metadata": {},
   "outputs": [
    {
     "data": {
      "text/plain": [
       "dict_keys(['web_url', 'snippet', 'lead_paragraph', 'print_page', 'blog', 'source', 'multimedia', 'headline', 'keywords', 'pub_date', 'document_type', 'news_desk', 'section_name', 'byline', 'type_of_material', '_id', 'word_count', 'score', 'uri'])"
      ]
     },
     "execution_count": 180,
     "metadata": {},
     "output_type": "execute_result"
    }
   ],
   "source": [
    "docs[233].keys()"
   ]
  },
  {
   "cell_type": "code",
   "execution_count": 179,
   "metadata": {},
   "outputs": [],
   "source": [
    "#now we will create a dictionary to check varios things before moving forward\n",
    "import pickle\n",
    "\n",
    "with open('filename.pickle', 'wb') as handle:\n",
    "    pickle.dump(docs, handle, protocol=pickle.HIGHEST_PROTOCOL)"
   ]
  },
  {
   "cell_type": "code",
   "execution_count": 5,
   "metadata": {},
   "outputs": [],
   "source": [
    "import pickle\n",
    "\n",
    "with open('filename.pickle', 'rb') as handle:\n",
    "    docs = pickle.load(handle)"
   ]
  },
  {
   "cell_type": "code",
   "execution_count": 6,
   "metadata": {},
   "outputs": [],
   "source": [
    "#creating a list of web-urls\n",
    "web_urls = []\n",
    "\n",
    "for doc in docs:\n",
    "    web_urls.append(doc['web_url'])"
   ]
  },
  {
   "cell_type": "markdown",
   "metadata": {},
   "source": [
    "## COULD BE DONE\n",
    "\n",
    "you can run the below cell to not include paid death notices.I have not done so as wanted to see how much \n",
    "portion of NYT is filled with these type of ads."
   ]
  },
  {
   "cell_type": "code",
   "execution_count": null,
   "metadata": {},
   "outputs": [],
   "source": [
    "\n",
    "#put all the urls not related to \"Paid Death Notices\" in the list of url's to be downloaded\n",
    "# web_urls = [doc['web_url'] for doc in docs if not doc['section_name'] == \"Paid Death Notices\"]"
   ]
  },
  {
   "cell_type": "code",
   "execution_count": 11,
   "metadata": {},
   "outputs": [
    {
     "name": "stdout",
     "output_type": "stream",
     "text": [
      "234\n",
      "https://www.nytimes.com/1997/02/14/arts/new-video-releases-630004.html\n"
     ]
    }
   ],
   "source": [
    "#Now please note that the api of nytimes does not provide us with text\n",
    "#but we can use news-please for that since we have extrated the urls\n",
    "print(len(web_urls))\n",
    "print(web_urls[45])"
   ]
  },
  {
   "cell_type": "code",
   "execution_count": 8,
   "metadata": {},
   "outputs": [],
   "source": [
    "from newsplease import NewsPlease"
   ]
  },
  {
   "cell_type": "code",
   "execution_count": 12,
   "metadata": {},
   "outputs": [
    {
     "name": "stdout",
     "output_type": "stream",
     "text": [
      "Success in article 0\n",
      "Success in article 1\n",
      "Success in article 2\n",
      "Encountered HTTPError in one of the pages moving on\n",
      "https://www.nytimes.com/1997/02/14/us/space-repair-job-begins.html\n",
      "Success in article 4\n",
      "Success in article 5\n",
      "Success in article 6\n",
      "Success in article 7\n",
      "Success in article 8\n",
      "Success in article 9\n",
      "Success in article 10\n",
      "Success in article 11\n",
      "Success in article 12\n",
      "Success in article 13\n",
      "Success in article 14\n",
      "Success in article 15\n",
      "Success in article 16\n",
      "Success in article 17\n",
      "Success in article 18\n",
      "Success in article 19\n",
      "Success in article 20\n",
      "Success in article 21\n",
      "Success in article 22\n",
      "Success in article 23\n",
      "Success in article 24\n",
      "Success in article 25\n",
      "Success in article 26\n",
      "Success in article 27\n",
      "Success in article 28\n",
      "Success in article 29\n",
      "Success in article 30\n",
      "Success in article 31\n",
      "Success in article 32\n",
      "Success in article 33\n",
      "Success in article 34\n",
      "Success in article 35\n",
      "Success in article 36\n",
      "Success in article 37\n",
      "Success in article 38\n",
      "Success in article 39\n",
      "Success in article 40\n",
      "Success in article 41\n",
      "Success in article 42\n",
      "Success in article 43\n",
      "Success in article 44\n",
      "Success in article 45\n",
      "Success in article 46\n",
      "Success in article 47\n",
      "Success in article 48\n",
      "Success in article 49\n",
      "Success in article 50\n",
      "Success in article 51\n",
      "Success in article 52\n",
      "Success in article 53\n",
      "Success in article 54\n",
      "Success in article 55\n",
      "Success in article 56\n",
      "Success in article 57\n",
      "Success in article 58\n",
      "Success in article 59\n",
      "Success in article 60\n",
      "Success in article 61\n",
      "Success in article 62\n",
      "Success in article 63\n",
      "Success in article 64\n",
      "Success in article 65\n",
      "Success in article 66\n",
      "Success in article 67\n",
      "Success in article 68\n",
      "Success in article 69\n",
      "Success in article 70\n",
      "Success in article 71\n",
      "Success in article 72\n",
      "Success in article 73\n",
      "Success in article 74\n",
      "Success in article 75\n",
      "Success in article 76\n",
      "Success in article 77\n",
      "Success in article 78\n",
      "Success in article 79\n",
      "Success in article 80\n",
      "Success in article 81\n",
      "Success in article 82\n",
      "Success in article 83\n",
      "Success in article 84\n",
      "Success in article 85\n",
      "Success in article 86\n",
      "Success in article 87\n",
      "Success in article 88\n",
      "Success in article 89\n",
      "Success in article 90\n",
      "Success in article 91\n",
      "Success in article 92\n",
      "Success in article 93\n",
      "Success in article 94\n",
      "Success in article 95\n",
      "Success in article 96\n",
      "Success in article 97\n",
      "Success in article 98\n",
      "Success in article 99\n",
      "Success in article 100\n",
      "Success in article 101\n",
      "Success in article 102\n",
      "Success in article 103\n",
      "Success in article 104\n",
      "Success in article 105\n",
      "Success in article 106\n",
      "Success in article 107\n",
      "Success in article 108\n",
      "Success in article 109\n",
      "Success in article 110\n",
      "Success in article 111\n",
      "Success in article 112\n",
      "Success in article 113\n",
      "Success in article 114\n",
      "Success in article 115\n",
      "Success in article 116\n",
      "Success in article 117\n",
      "Success in article 118\n",
      "Success in article 119\n",
      "Success in article 120\n",
      "Success in article 121\n",
      "Success in article 122\n",
      "Success in article 123\n",
      "Success in article 124\n",
      "Success in article 125\n",
      "Success in article 126\n",
      "Success in article 127\n",
      "Success in article 128\n",
      "Success in article 129\n",
      "Success in article 130\n",
      "Success in article 131\n",
      "Success in article 132\n",
      "Success in article 133\n",
      "Success in article 134\n",
      "Success in article 135\n",
      "Success in article 136\n",
      "Success in article 137\n",
      "Success in article 138\n",
      "Success in article 139\n",
      "Success in article 140\n",
      "Success in article 141\n",
      "Success in article 142\n",
      "Success in article 143\n",
      "Success in article 144\n",
      "Success in article 145\n",
      "Success in article 146\n",
      "Success in article 147\n",
      "Success in article 148\n",
      "Success in article 149\n",
      "Success in article 150\n",
      "Success in article 151\n",
      "Success in article 152\n",
      "Success in article 153\n",
      "Success in article 154\n",
      "Success in article 155\n",
      "Success in article 156\n",
      "Success in article 157\n",
      "Success in article 158\n",
      "Success in article 159\n",
      "Success in article 160\n",
      "Success in article 161\n",
      "Success in article 162\n",
      "Success in article 163\n",
      "Success in article 164\n",
      "Success in article 165\n",
      "Success in article 166\n",
      "Success in article 167\n",
      "Success in article 168\n",
      "Success in article 169\n",
      "Success in article 170\n",
      "Success in article 171\n",
      "Success in article 172\n",
      "Success in article 173\n",
      "Success in article 174\n",
      "Success in article 175\n",
      "Success in article 176\n",
      "Success in article 177\n",
      "Success in article 178\n",
      "Success in article 179\n",
      "Success in article 180\n",
      "Success in article 181\n",
      "Success in article 182\n",
      "Success in article 183\n",
      "Success in article 184\n",
      "Success in article 185\n",
      "Success in article 186\n",
      "Success in article 187\n",
      "Success in article 188\n",
      "Success in article 189\n",
      "Success in article 190\n",
      "Success in article 191\n",
      "Success in article 192\n",
      "Success in article 193\n",
      "Success in article 194\n",
      "Success in article 195\n",
      "Success in article 196\n",
      "Success in article 197\n",
      "Success in article 198\n",
      "Success in article 199\n",
      "Encountered HTTPError in one of the pages moving on\n",
      "https://www.nytimes.com/1997/02/14/us/remembering-pamela-harriman.html\n",
      "Success in article 201\n",
      "Success in article 202\n",
      "Success in article 203\n",
      "Success in article 204\n",
      "Success in article 205\n",
      "Success in article 206\n",
      "Success in article 207\n",
      "Success in article 208\n",
      "Success in article 209\n",
      "Success in article 210\n",
      "Success in article 211\n",
      "Success in article 212\n",
      "Success in article 213\n",
      "Success in article 214\n",
      "Success in article 215\n",
      "Success in article 216\n",
      "Success in article 217\n",
      "Success in article 218\n",
      "Success in article 219\n",
      "Success in article 220\n",
      "Success in article 221\n",
      "Success in article 222\n",
      "Success in article 223\n",
      "Success in article 224\n",
      "Success in article 225\n",
      "Success in article 226\n",
      "Success in article 227\n",
      "Success in article 228\n",
      "Success in article 229\n",
      "Success in article 230\n",
      "Success in article 231\n",
      "Success in article 232\n",
      "Success in article 233\n"
     ]
    }
   ],
   "source": [
    "articles=[]\n",
    "\n",
    "for i in range(len(docs)):\n",
    "    try:\n",
    "        article=NewsPlease.from_url(web_urls[i])\n",
    "        articles.append(article)\n",
    "        print(\"Success in article {}\".format(i))\n",
    "    except:\n",
    "        print(\"Encountered HTTPError in one of the pages moving on\")\n",
    "        print(web_urls[i])"
   ]
  },
  {
   "cell_type": "code",
   "execution_count": 13,
   "metadata": {},
   "outputs": [
    {
     "data": {
      "text/plain": [
       "232"
      ]
     },
     "execution_count": 13,
     "metadata": {},
     "output_type": "execute_result"
    }
   ],
   "source": [
    "len(articles)"
   ]
  },
  {
   "cell_type": "code",
   "execution_count": 15,
   "metadata": {},
   "outputs": [],
   "source": [
    "articles_in_dic_format = [article.get_dict() for article in articles]"
   ]
  },
  {
   "cell_type": "code",
   "execution_count": 44,
   "metadata": {},
   "outputs": [
    {
     "data": {
      "text/plain": [
       "{'authors': [],\n",
       " 'date_download': datetime.datetime(2019, 3, 17, 6, 56, 41),\n",
       " 'date_modify': None,\n",
       " 'date_publish': datetime.datetime(1997, 2, 14, 0, 0),\n",
       " 'description': 'Dance Theater of Harlem and American Guild of Musical Artists agree on two-year contract for dancers, ending 19-day strike (S)',\n",
       " 'filename': 'https%3A%2F%2Fwww.nytimes.com%2F1997%2F02%2F14%2Farts%2Fharlem-dance-contract.html.json',\n",
       " 'image_url': 'https://static01.nyt.com/images/icons/t_logo_291_black.png',\n",
       " 'language': 'en',\n",
       " 'localpath': None,\n",
       " 'source_domain': 'www.nytimes.com',\n",
       " 'text': \"The Dance Theater of Harlem and the American Guild of Musical Artists, which represents the company's dancers, announced yesterday that they had reached an agreement on a new two-year contract, ending a 19-day strike. Under the contract, the 32 dancers will receive a 5 percent raise in each year. Under the old contract, which expired Sept. 30, the wage scale ran from $269 a week for apprentices to $767 a week for principal dancers. The raise is to be paid retroactively. The contract guarantees 40 weeks of work in the first year and 30 in the second.\",\n",
       " 'title': 'Harlem Dance Contract',\n",
       " 'title_page': None,\n",
       " 'title_rss': None,\n",
       " 'url': 'https://www.nytimes.com/1997/02/14/arts/harlem-dance-contract.html'}"
      ]
     },
     "execution_count": 44,
     "metadata": {},
     "output_type": "execute_result"
    }
   ],
   "source": [
    "articles_in_dic_format[2]"
   ]
  },
  {
   "cell_type": "code",
   "execution_count": 19,
   "metadata": {},
   "outputs": [
    {
     "data": {
      "text/plain": [
       "{'web_url': 'https://www.nytimes.com/1997/02/14/classified/paid-notice-deaths-kraus-george-e.html',\n",
       " 'snippet': 'KRAUS-George E., 88, of Scottsdale, AZ, formerly of New York, died February 13. Beloved husband of Bobbi, cherished father and father-in-law to Marlene and Steve Morris of New York and Leslie Kraus and Susan Rosenthal Kraus of Minnesota. Loving gr...',\n",
       " 'lead_paragraph': 'KRAUS-George E., 88, of Scottsdale, AZ, formerly of New York, died February 13. Beloved husband of Bobbi, cherished father and father-in-law to Marlene and Steve Morris of New York and Leslie Kraus and Susan Rosenthal Kraus of Minnesota. Loving grandfather of David and Gary Morris and Erica Rosenthal Kraus. His goodness, wisdom and sense of humor will be forever appreciated. Contributions may be made to the charity of your choice.',\n",
       " 'print_page': '7',\n",
       " 'blog': {},\n",
       " 'source': 'The New York Times',\n",
       " 'multimedia': [],\n",
       " 'headline': {'main': 'Paid Notice: Deaths  KRAUS, GEORGE E.',\n",
       "  'kicker': None,\n",
       "  'content_kicker': None,\n",
       "  'print_headline': None,\n",
       "  'name': None,\n",
       "  'seo': None,\n",
       "  'sub': None},\n",
       " 'keywords': [{'name': 'persons',\n",
       "   'value': 'KRAUS, GEORGE E.',\n",
       "   'rank': 0,\n",
       "   'major': None}],\n",
       " 'pub_date': '1997-02-14T00:00:00Z',\n",
       " 'document_type': 'article',\n",
       " 'news_desk': 'Classified',\n",
       " 'section_name': 'Paid Death Notices',\n",
       " 'type_of_material': 'Paid Death Notice',\n",
       " '_id': '4fd1cd808eb7c8105d704d8c',\n",
       " 'word_count': 70,\n",
       " 'score': 0.0}"
      ]
     },
     "execution_count": 19,
     "metadata": {},
     "output_type": "execute_result"
    }
   ],
   "source": [
    "docs[0]"
   ]
  },
  {
   "cell_type": "code",
   "execution_count": 43,
   "metadata": {},
   "outputs": [
    {
     "name": "stdout",
     "output_type": "stream",
     "text": [
      "Paid Death Notices\n",
      "42\n"
     ]
    }
   ],
   "source": [
    "#counting the number of paid death notices as don't think they are\n",
    "#really important\n",
    "num=0\n",
    "str_match = docs[0]['section_name']\n",
    "print(str_match)\n",
    "\n",
    "for doc in docs:\n",
    "    if doc['section_name']==str_match:\n",
    "        num+=1\n",
    "print(num)"
   ]
  },
  {
   "cell_type": "code",
   "execution_count": 38,
   "metadata": {},
   "outputs": [
    {
     "name": "stdout",
     "output_type": "stream",
     "text": [
      "0 Paid Death Notices\n",
      "1 Paid Death Notices\n",
      "2 Arts\n",
      "3 Front Page\n",
      "4 Paid Death Notices\n",
      "5 Arts\n",
      "6 Sports\n",
      "7 Opinion\n",
      "8 World\n",
      "9 Sports\n",
      "10 Arts\n",
      "11 Arts\n",
      "12 New York and Region\n",
      "13 Arts\n",
      "14 Opinion\n",
      "15 Paid Death Notices\n",
      "16 Paid Death Notices\n",
      "17 Front Page; U.S.\n",
      "18 Sports\n",
      "19 New York and Region\n",
      "20 New York and Region\n",
      "21 Opinion\n",
      "22 Opinion\n",
      "23 New York and Region\n",
      "24 Business\n",
      "25 Opinion\n",
      "26 Front Page; U.S.\n",
      "27 World; Washington\n",
      "28 Arts; Theater\n",
      "29 Business\n",
      "30 New York and Region\n",
      "31 Business\n",
      "32 Business\n",
      "33 Sports\n",
      "34 Business\n",
      "35 U.S.\n",
      "36 Movies; Arts\n",
      "37 Opinion\n",
      "38 Front Page; New York and Region\n",
      "39 Paid Death Notices\n",
      "40 Paid Death Notices\n",
      "41 Arts\n",
      "42 Arts\n",
      "43 New York and Region\n",
      "44 Business\n",
      "45 Arts\n",
      "46 Paid Death Notices\n",
      "47 Sports\n",
      "48 Opinion\n",
      "49 Sports\n",
      "50 Business\n",
      "51 Business\n",
      "52 Business\n",
      "53 Movies; Arts\n",
      "54 Style; Washington\n",
      "55 Paid Death Notices\n",
      "56 New York and Region\n",
      "57 U.S.\n",
      "58 New York and Region\n",
      "59 Paid Death Notices\n",
      "60 Sports\n",
      "61 Paid Death Notices\n",
      "62 World\n",
      "63 New York and Region\n",
      "64 Opinion\n",
      "65 New York and Region\n",
      "66 New York and Region\n",
      "67 Business\n",
      "68 Sports\n",
      "69 Paid Death Notices\n",
      "70 Paid Death Notices\n",
      "71 U.S.\n",
      "72 Movies; Arts\n",
      "73 Business\n",
      "74 Health; New York and Region\n",
      "75 Front Page; New York and Region\n",
      "76 World\n",
      "77 Arts\n",
      "78 New York and Region\n",
      "79 Business\n",
      "80 Business\n",
      "81 Arts; Obituaries\n",
      "82 Sports\n",
      "83 Sports\n",
      "84 Corrections; New York and Region\n",
      "85 U.S.\n",
      "86 Front Page; New York and Region\n",
      "87 U.S.\n",
      "88 New York and Region\n",
      "89 Sports\n",
      "90 Sports\n",
      "91 Arts\n",
      "92 Arts\n",
      "93 Opinion\n",
      "94 Paid Death Notices\n",
      "95 Paid Death Notices\n",
      "96 Business\n",
      "97 Opinion\n",
      "98 Sports\n",
      "99 Business\n",
      "100 Business\n",
      "101 New York and Region\n",
      "102 New York and Region\n",
      "103 Arts\n",
      "104 Arts\n",
      "105 New York and Region\n",
      "106 Paid Death Notices\n",
      "107 Health; Business\n",
      "108 Science; Obituaries; New York and Region\n",
      "109 Business\n",
      "110 Business\n",
      "111 Business\n",
      "112 Opinion\n",
      "113 Paid Death Notices\n",
      "114 Paid Death Notices\n",
      "115 Arts\n",
      "116 U.S.; Obituaries\n",
      "117 Corrections; New York and Region\n",
      "118 Paid Death Notices\n",
      "119 Arts\n",
      "120 Movies; Arts\n",
      "121 Paid Death Notices\n",
      "122 Paid Death Notices\n",
      "123 World\n",
      "124 Business\n",
      "125 Arts\n",
      "126 New York and Region\n",
      "127 Arts\n",
      "128 New York and Region\n",
      "129 U.S.\n",
      "130 Arts\n",
      "131 Paid Death Notices\n",
      "132 Paid Death Notices\n",
      "133 Movies; Arts\n",
      "134 Business\n",
      "135 Business\n",
      "136 U.S.\n",
      "137 Sports\n",
      "138 World\n",
      "139 U.S.\n",
      "140 Business\n",
      "141 Paid Death Notices\n",
      "142 Paid Death Notices\n",
      "143 Paid Death Notices\n",
      "144 Arts; Books\n",
      "145 New York and Region\n",
      "146 Arts\n",
      "147 Arts\n",
      "148 Paid Death Notices\n",
      "149 Business\n",
      "150 Paid Death Notices\n",
      "151 Front Page; Business\n",
      "152 Business\n",
      "153 Arts\n",
      "154 Opinion\n",
      "155 Business\n",
      "156 Business\n",
      "157 Paid Death Notices\n",
      "158 World\n",
      "159 New York and Region\n",
      "160 Opinion\n",
      "161 Business\n",
      "162 Paid Death Notices\n",
      "163 Front Page; Business\n",
      "164 Paid Death Notices\n",
      "165 U.S.\n",
      "166 New York and Region\n",
      "167 Education; New York and Region\n",
      "168 Opinion\n",
      "169 Opinion\n",
      "170 Sports\n",
      "171 Paid Death Notices\n",
      "172 Paid Death Notices\n",
      "173 Corrections; New York and Region\n",
      "174 Paid Death Notices\n",
      "175 Movies; Arts\n",
      "176 Business\n",
      "177 U.S.\n",
      "178 Business\n",
      "179 Arts\n",
      "180 Paid Death Notices\n",
      "181 Paid Death Notices\n",
      "182 Paid Death Notices\n",
      "183 World\n",
      "184 U.S.\n",
      "185 Sports\n",
      "186 Arts\n",
      "187 World\n",
      "188 Arts\n",
      "189 U.S.\n",
      "190 Business\n",
      "191 Sports\n",
      "192 Paid Death Notices\n",
      "193 Arts\n",
      "194 Obituaries; New York and Region\n",
      "195 Sports\n",
      "196 Arts\n",
      "197 New York and Region\n",
      "198 Style\n",
      "199 New York and Region\n",
      "200 Front Page\n",
      "201 Paid Death Notices\n",
      "202 Arts; Books\n",
      "203 New York and Region\n",
      "204 Technology; Business\n",
      "205 World\n",
      "206 New York and Region\n",
      "207 Paid Death Notices\n",
      "208 World; Front Page\n",
      "209 Sports\n",
      "210 Corrections; New York and Region\n",
      "211 Paid Death Notices\n",
      "212 Arts; Theater\n",
      "213 U.S.\n",
      "214 Sports\n",
      "215 New York and Region\n",
      "216 U.S.\n",
      "217 Opinion\n",
      "218 Business\n",
      "219 New York and Region\n",
      "220 Style\n",
      "221 Opinion\n",
      "222 Business\n",
      "223 Opinion\n",
      "224 Opinion\n",
      "225 Corrections; New York and Region\n",
      "226 Corrections; New York and Region\n",
      "227 Paid Death Notices\n",
      "228 Travel; Arts\n",
      "229 New York and Region\n",
      "230 New York and Region\n",
      "231 Business\n",
      "232 U.S.\n",
      "233 Opinion\n"
     ]
    }
   ],
   "source": [
    "for i,doc in enumerate(docs):\n",
    "    print(i,doc['section_name'])"
   ]
  },
  {
   "cell_type": "markdown",
   "metadata": {},
   "source": [
    "## Let's get started with LDA data creation"
   ]
  },
  {
   "cell_type": "code",
   "execution_count": 50,
   "metadata": {},
   "outputs": [
    {
     "data": {
      "text/plain": [
       "dict_keys(['authors', 'date_download', 'date_modify', 'date_publish', 'description', 'filename', 'image_url', 'language', 'localpath', 'source_domain', 'text', 'title', 'title_page', 'title_rss', 'url'])"
      ]
     },
     "execution_count": 50,
     "metadata": {},
     "output_type": "execute_result"
    }
   ],
   "source": [
    "#looking at the keys to select important ones\n",
    "articles_in_dic_format[0].keys()"
   ]
  },
  {
   "cell_type": "code",
   "execution_count": 63,
   "metadata": {},
   "outputs": [],
   "source": [
    "sample_article=articles_in_dic_format[4]"
   ]
  },
  {
   "cell_type": "code",
   "execution_count": 68,
   "metadata": {},
   "outputs": [
    {
     "name": "stdout",
     "output_type": "stream",
     "text": [
      "List of some upcoming entertainment events for children in New York\n",
      "['Laurel Graeber']\n",
      "\n",
      "\n",
      "'Let's Be Friends'\n",
      "'Sesame Street Live'\n",
      "The Theater at Madison Square Garden\n",
      "Seventh Avenue and 33d Street\n",
      "(212) 465-6741\n",
      "Recommended ages: 1 through 6\n",
      "Through Feb. 23\n",
      "Does Madison Square Garden have earthquake insurance? This question comes to mind when the pitter-patter of little feet becomes more like the thump-thump of a many-footed monster.\n",
      "Monsters, in fact, are all over the stage at the latest ''Sesame Street Live'' presentation, where the furry Muppets encourage young audiences to act out lyrics like, ''If you're grouchy and you know it stomp your feet.'' But with this welcome plunge into naughtiness, the show also offers lots of advice on friendship, from how to say ''Hello, my friend'' in Spanish to how to pitch in and help a buddy clean up his room.\n",
      "The cast includes all the usual suspects, from Hoots the Owl to the Honkers, but some of the more memorable appearances are by creatures who aren't series regulars. Some hilariously got-up spiders and a caterpillar, for instance, emerge to dance the ''Night Bug Boogie.'' And who better than a chorus of cute chili peppers to belt out ''La Bamba''?\n",
      "Such old rock-and-roll tunes contribute heavily to the program, which has enlivened them with typical ''Sesame Street'' touches. When Cookie Monster needs assistance in straightening up his room, for example, the 1950's classic ''Shout'' becomes ''Clean!''\n",
      "Newsletter Sign Up Continue reading the main story Please verify you're not a robot by clicking the box. Invalid email address. Please re-enter. You must select a newsletter to subscribe to. Sign Up You will receive emails containing news content , updates and promotions from The New York Times. You may opt-out at any time. You agree to receive occasional updates and special offers for The New York Times's products and services. Thank you for subscribing. An error has occurred. Please try again later. View all New York Times newsletters.\n",
      "Running about 90 minutes with a 15-minute intermission, the program can be a bit long for its tiniest fans. They will probably be most enthusiastic if you buy seats up front, where the performers run into the audience, delivering pats and hugs. As for refreshments, this ''Sesame Street'' could easily be Candyland; bring your own if you want nutritive value. Also be prepared for constant clamoring for overpriced souvenirs.\n",
      "Performances are today at 10:30 A.M. and tomorrow and Sunday at 10:30 A.M., 2 P.M. and 5:30 P.M. The show is also scheduled for Monday at 10:30 A.M. and 2 P.M., Thursday at noon, and Feb. 21 though Feb. 23 at 10:30 A.M., 2 P.M. and 5:30 P.M. Tickets, available through the Garden box office or Ticketmaster, are $12.50, $16.50, $18.50 and $28.\n",
      "'The Carnival of the Animals'\n",
      "The Riverdale Y.M.-Y.W.H.A.\n",
      "5625 Arlington Avenue, at 256th Street\n",
      "The Bronx\n",
      "Advertisement Continue reading the main story\n",
      "(718) 601-7399\n",
      "Recommended ages: 3 to 10\n",
      "Sunday\n",
      "The Bronx Arts Ensemble is making sure that ''The Carnival of the Animals'' lives up to its name. Its performance of Saint-Saens' musical piece about a lively crew of creatures is to include not only human musicians and mimes, but two canine performers as well.\n",
      "They are Puck and Cobweb, Maltese dogs who belong to John Grimaldi and Alice Bosveld, a married couple who make up the New York Lyric Circus. Mr. Grimaldi and Ms. Bosveld will introduce each of the musical movements by reading the verse accompaniments Ogden Nash wrote in the 1950's.\n",
      "''We do things including juggling, balancing and wearing a lot of masks to suggest the animals in a fun way,'' Mr. Grimaldi said. For instance, after the narration, ''The kangaroo can jump incredible/He has to jump because he's edible,'' Mr. Grimaldi will traverse the stage on a pogo stick.\n",
      "Puck and Cobweb are to get into the act frequently, portraying everything from a mule to different kinds of fish, thanks to hats and sandwich-board-size cutouts. The audience is to be involved as well. ''We use a volunteer turtle, and there's a part where we have the children portray birds,'' Mr. Grimaldi said.\n",
      "The Bronx Arts Ensemble also plans to use the concert to introduce young visitors to musical instruments, having different sections play melodies by Mozart, Scott Joplin and Juan Campos. When the hourlong presentation is over, the audience will be visited by the performers, including, of course, Puck and Cobweb.\n",
      "The concert is at 2 P.M. All tickets are $6; reservations are advised. To reach the Y, ride the IRT No. 1 or No. 9 to 231st Street, then take No. 7 or No. 10 bus up Broadway.\n",
      "\n",
      "\n",
      "For Children\n"
     ]
    }
   ],
   "source": [
    "print(sample_article['description'])\n",
    "print(sample_article['authors'])\n",
    "print(\"\\n\\n\"+sample_article['text'])\n",
    "print(\"\\n\\n\"+sample_article['title'])"
   ]
  },
  {
   "cell_type": "code",
   "execution_count": 55,
   "metadata": {},
   "outputs": [
    {
     "data": {
      "text/plain": [
       "dict_keys(['web_url', 'snippet', 'lead_paragraph', 'print_page', 'blog', 'source', 'multimedia', 'headline', 'keywords', 'pub_date', 'document_type', 'news_desk', 'section_name', 'type_of_material', '_id', 'word_count', 'score'])"
      ]
     },
     "execution_count": 55,
     "metadata": {},
     "output_type": "execute_result"
    }
   ],
   "source": [
    "docs[0].keys()"
   ]
  },
  {
   "cell_type": "code",
   "execution_count": 58,
   "metadata": {},
   "outputs": [
    {
     "name": "stdout",
     "output_type": "stream",
     "text": [
      "{'main': 'Paid Notice: Deaths  KRAUS, GEORGE E.', 'kicker': None, 'content_kicker': None, 'print_headline': None, 'name': None, 'seo': None, 'sub': None}\n",
      "{'main': 'Paid Notice: Deaths  OWEN, IVAN G., SR.', 'kicker': None, 'content_kicker': None, 'print_headline': None, 'name': None, 'seo': None, 'sub': None}\n",
      "{'main': 'Harlem Dance Contract', 'kicker': None, 'content_kicker': None, 'print_headline': None, 'name': None, 'seo': None, 'sub': None}\n",
      "{'main': 'Space Repair Job Begins', 'kicker': None, 'content_kicker': None, 'print_headline': None, 'name': None, 'seo': None, 'sub': None}\n",
      "{'main': 'Paid Notice: Deaths  MAIER, EVA', 'kicker': None, 'content_kicker': None, 'print_headline': None, 'name': None, 'seo': None, 'sub': None}\n",
      "{'main': 'For Children', 'kicker': 'For Children', 'content_kicker': None, 'print_headline': None, 'name': None, 'seo': None, 'sub': None}\n",
      "{'main': 'Rangers, Gretzky Are Unable To Produce', 'kicker': 'HOCKEY', 'content_kicker': None, 'print_headline': None, 'name': None, 'seo': None, 'sub': None}\n",
      "{'main': 'Dayton at Risk', 'kicker': 'Abroad at Home', 'content_kicker': None, 'print_headline': None, 'name': None, 'seo': None, 'sub': None}\n",
      "{'main': 'Tajik Rebels Said to Kill U.N. Aide in Hostage Deal Gone Awry', 'kicker': None, 'content_kicker': None, 'print_headline': None, 'name': None, 'seo': None, 'sub': None}\n",
      "{'main': 'Jets Open the Vault for Parcells', 'kicker': 'PRO FOOTBALL', 'content_kicker': None, 'print_headline': None, 'name': None, 'seo': None, 'sub': None}\n",
      "{'main': 'The Spoken Word', 'kicker': None, 'content_kicker': None, 'print_headline': None, 'name': None, 'seo': None, 'sub': None}\n",
      "{'main': 'A Countess Who Knows The Score', 'kicker': 'OPERA REVIEW', 'content_kicker': None, 'print_headline': None, 'name': None, 'seo': None, 'sub': None}\n",
      "{'main': 'For Some, New Toy Is Not All Fun and Games', 'kicker': None, 'content_kicker': None, 'print_headline': None, 'name': None, 'seo': None, 'sub': None}\n",
      "{'main': 'Art in Review', 'kicker': 'Art in Review', 'content_kicker': None, 'print_headline': None, 'name': None, 'seo': None, 'sub': None}\n",
      "{'main': 'Defense Spending Boon', 'kicker': None, 'content_kicker': None, 'print_headline': None, 'name': None, 'seo': None, 'sub': None}\n",
      "{'main': 'Paid Notice: Deaths  CUMMINGS, PAUL', 'kicker': None, 'content_kicker': None, 'print_headline': None, 'name': None, 'seo': None, 'sub': None}\n",
      "{'main': 'Paid Notice: Deaths  CASTELLANOS, DONALD F', 'kicker': None, 'content_kicker': None, 'print_headline': None, 'name': None, 'seo': None, 'sub': None}\n",
      "{'main': 'HOUSE BACKS BILL ON MONEY TO AID FAMILY PLANNING', 'kicker': None, 'content_kicker': None, 'print_headline': None, 'name': None, 'seo': None, 'sub': None}\n",
      "{'main': 'Finding Time To Go Around Will Test Torre', 'kicker': 'BASEBALL: The Season of Hope Arrives in Florida', 'content_kicker': None, 'print_headline': None, 'name': None, 'seo': None, 'sub': None}\n",
      "{'main': 'M.T.A., Too, Could Learn Some Manners', 'kicker': 'NYC', 'content_kicker': None, 'print_headline': None, 'name': None, 'seo': None, 'sub': None}\n",
      "{'main': 'Village Voice Owner Buys 2 Publications', 'kicker': 'Metro Business', 'content_kicker': None, 'print_headline': None, 'name': None, 'seo': None, 'sub': None}\n",
      "{'main': 'Legality, Not Morality', 'kicker': 'New Swiss Generation Rejects Wartime Myths', 'content_kicker': None, 'print_headline': None, 'name': None, 'seo': None, 'sub': None}\n",
      "{'main': 'As for Bipartisanship, the Future Looks Dim', 'kicker': None, 'content_kicker': None, 'print_headline': None, 'name': None, 'seo': None, 'sub': None}\n",
      "{'main': \"Nods in Governor's Race\", 'kicker': 'NEW JERSEY DAILY BRIEFING', 'content_kicker': None, 'print_headline': None, 'name': None, 'seo': None, 'sub': None}\n",
      "{'main': 'TOP EXECUTIVE TO LEAVE ANDERSEN', 'kicker': 'COMPANY NEWS', 'content_kicker': None, 'print_headline': None, 'name': None, 'seo': None, 'sub': None}\n",
      "{'main': \"Saving Romania's Jews\", 'kicker': 'New Swiss Generation Rejects Wartime Myths', 'content_kicker': None, 'print_headline': None, 'name': None, 'seo': None, 'sub': None}\n",
      "{'main': 'Clinton and Friends: Strong Ties, Few Questions', 'kicker': 'THE ARKANSAS NETWORK: A special report.', 'content_kicker': None, 'print_headline': None, 'name': None, 'seo': None, 'sub': None}\n",
      "{'main': 'Clinton Meets With Netanyahu and Urges Syrian Talks', 'kicker': None, 'content_kicker': None, 'print_headline': None, 'name': None, 'seo': None, 'sub': None}\n",
      "{'main': 'On Stage, and Off', 'kicker': 'On Stage, and Off', 'content_kicker': None, 'print_headline': None, 'name': None, 'seo': None, 'sub': None}\n",
      "{'main': \"Pilots' Rifts Create Hurdle To a Contract\", 'kicker': 'DISPUTE AT AMERICAN AIRLINES: THE TALKS', 'content_kicker': None, 'print_headline': None, 'name': None, 'seo': None, 'sub': None}\n",
      "{'main': \"Giuliani's Report Card: Charts Full of Optimism\", 'kicker': 'CITY HALL MEMO', 'content_kicker': None, 'print_headline': None, 'name': None, 'seo': None, 'sub': None}\n",
      "{'main': 'Insurer Grows, Equating Size and Survival', 'kicker': 'Market Place', 'content_kicker': None, 'print_headline': None, 'name': None, 'seo': None, 'sub': None}\n",
      "{'main': 'Heinz and Campbell Settle', 'kicker': None, 'content_kicker': None, 'print_headline': None, 'name': None, 'seo': None, 'sub': None}\n",
      "{'main': \"Calipari Shows Concern Over Bradley's Lethargy\", 'kicker': 'PRO BASKETBALL', 'content_kicker': None, 'print_headline': None, 'name': None, 'seo': None, 'sub': None}\n",
      "{'main': 'Nokia Reports 76% Profit Surge in Quarter', 'kicker': 'INTERNATIONAL BUSINESS', 'content_kicker': None, 'print_headline': None, 'name': None, 'seo': None, 'sub': None}\n",
      "{'main': 'King Family Makes Appeal For Trial for James Earl Ray', 'kicker': None, 'content_kicker': None, 'print_headline': None, 'name': None, 'seo': None, 'sub': None}\n",
      "{'main': 'A Plea for Treating People Humanely', 'kicker': 'FILM REVIEW', 'content_kicker': None, 'print_headline': None, 'name': None, 'seo': None, 'sub': None}\n",
      "{'main': 'New Swiss Generation Rejects Wartime Myths', 'kicker': None, 'content_kicker': None, 'print_headline': None, 'name': None, 'seo': None, 'sub': None}\n",
      "{'main': 'INSIDE', 'kicker': None, 'content_kicker': None, 'print_headline': None, 'name': None, 'seo': None, 'sub': None}\n",
      "{'main': 'Paid Notice: Deaths  DEERING, JAMES A. JR.', 'kicker': None, 'content_kicker': None, 'print_headline': None, 'name': None, 'seo': None, 'sub': None}\n",
      "{'main': 'Paid Notice: Deaths  KORN, IRVING', 'kicker': None, 'content_kicker': None, 'print_headline': None, 'name': None, 'seo': None, 'sub': None}\n",
      "{'main': 'Not Just for Viewing, But Also for Healing', 'kicker': 'ART REVIEW', 'content_kicker': None, 'print_headline': None, 'name': None, 'seo': None, 'sub': None}\n",
      "{'main': 'Developing Rhythms And Ideas', 'kicker': 'JAZZ REVIEW', 'content_kicker': None, 'print_headline': None, 'name': None, 'seo': None, 'sub': None}\n",
      "{'main': 'Hyatt Affiliate Studies Site', 'kicker': 'Metro Business', 'content_kicker': None, 'print_headline': None, 'name': None, 'seo': None, 'sub': None}\n",
      "{'main': 'Emmerling Post Gets I.R.S. Contract', 'kicker': 'THE MEDIA BUSINESS: ADVERTISING -- ADDENDA', 'content_kicker': None, 'print_headline': None, 'name': None, 'seo': None, 'sub': None}\n",
      "{'main': 'NEW VIDEO RELEASES', 'kicker': 'NEW VIDEO RELEASES', 'content_kicker': None, 'print_headline': None, 'name': None, 'seo': None, 'sub': None}\n",
      "{'main': 'Paid Notice: Deaths  GRAY, FLORENCE S', 'kicker': None, 'content_kicker': None, 'print_headline': None, 'name': None, 'seo': None, 'sub': None}\n",
      "{'main': 'Irabu Tells Panel He Wants to Be a Yankee, Not a Padre', 'kicker': 'BASEBALL', 'content_kicker': None, 'print_headline': None, 'name': None, 'seo': None, 'sub': None}\n",
      "{'main': 'Banning New Investment in Myanmar', 'kicker': 'Challenges of Diplomacy', 'content_kicker': None, 'print_headline': None, 'name': None, 'seo': None, 'sub': None}\n",
      "{'main': 'Brodeur Scores a Top 10 in Shutout', 'kicker': 'HOCKEY', 'content_kicker': None, 'print_headline': None, 'name': None, 'seo': None, 'sub': None}\n",
      "{'main': 'Swedish Manufacturer Reports Increase in Profit', 'kicker': 'INTERNATIONAL BRIEFS', 'content_kicker': None, 'print_headline': None, 'name': None, 'seo': None, 'sub': None}\n",
      "{'main': 'COMPANY BRIEFS', 'kicker': None, 'content_kicker': None, 'print_headline': None, 'name': None, 'seo': None, 'sub': None}\n",
      "{'main': 'Slow Growth and Revamping Cost Lead to Loss at Philips', 'kicker': 'INTERNATIONAL BUSINESS', 'content_kicker': None, 'print_headline': None, 'name': None, 'seo': None, 'sub': None}\n",
      "{'main': 'Cultures That Clash In Marriage', 'kicker': 'FILM REVIEW', 'content_kicker': None, 'print_headline': None, 'name': None, 'seo': None, 'sub': None}\n",
      "{'main': 'CHRONICLE', 'kicker': 'CHRONICLE', 'content_kicker': None, 'print_headline': None, 'name': None, 'seo': None, 'sub': None}\n",
      "{'main': 'Paid Notice: Memorials  SOLOMON, NAT L', 'kicker': None, 'content_kicker': None, 'print_headline': None, 'name': None, 'seo': None, 'sub': None}\n",
      "{'main': 'Detours Clog East Side After a Steam Pipe Releases Asbestos', 'kicker': None, 'content_kicker': None, 'print_headline': None, 'name': None, 'seo': None, 'sub': None}\n",
      "{'main': '2 Cleared in Gifts Tied to Ex-Cabinet Member', 'kicker': None, 'content_kicker': None, 'print_headline': None, 'name': None, 'seo': None, 'sub': None}\n",
      "{'main': 'Police Offer Reward', 'kicker': None, 'content_kicker': None, 'print_headline': None, 'name': None, 'seo': None, 'sub': None}\n",
      "{'main': 'Paid Notice: Deaths  HESSEL, ALEXANDER', 'kicker': None, 'content_kicker': None, 'print_headline': None, 'name': None, 'seo': None, 'sub': None}\n",
      "{'main': \"'Liberty' for New York Club\", 'kicker': \"SPORTS PEOPLE: WOMEN'S BASKETBALL\", 'content_kicker': None, 'print_headline': None, 'name': None, 'seo': None, 'sub': None}\n",
      "{'main': 'Paid Notice: Deaths  SCHWARZ, FERNE R.', 'kicker': None, 'content_kicker': None, 'print_headline': None, 'name': None, 'seo': None, 'sub': None}\n",
      "{'main': 'A Defector From Korea Is a Hot Potato For Beijing', 'kicker': None, 'content_kicker': None, 'print_headline': None, 'name': None, 'seo': None, 'sub': None}\n",
      "{'main': \"Many in Battered Women's Shelter Say Life Was Mostly Humdrum\", 'kicker': None, 'content_kicker': None, 'print_headline': None, 'name': None, 'seo': None, 'sub': None}\n",
      "{'main': 'Too Many Federal Court Vacancies', 'kicker': None, 'content_kicker': None, 'print_headline': None, 'name': None, 'seo': None, 'sub': None}\n",
      "{'main': 'Cleaning Up Campaigns', 'kicker': 'NEW JERSEY DAILY BRIEFING', 'content_kicker': None, 'print_headline': None, 'name': None, 'seo': None, 'sub': None}\n",
      "{'main': 'Warehouse Insurance Fraud', 'kicker': 'NEW JERSEY DAILY BRIEFING', 'content_kicker': None, 'print_headline': None, 'name': None, 'seo': None, 'sub': None}\n",
      "{'main': 'Dutch Government Assists in Fokker Talks', 'kicker': 'INTERNATIONAL BRIEFS', 'content_kicker': None, 'print_headline': None, 'name': None, 'seo': None, 'sub': None}\n",
      "{'main': 'TRANSACTIONS', 'kicker': None, 'content_kicker': None, 'print_headline': None, 'name': None, 'seo': None, 'sub': None}\n",
      "{'main': 'Paid Notice: Deaths  BLAICHER, ELIZABETH MAULSBY BOULDIN', 'kicker': None, 'content_kicker': None, 'print_headline': None, 'name': None, 'seo': None, 'sub': None}\n",
      "{'main': 'Paid Notice: Deaths  TAYLOR, THOMAS', 'kicker': None, 'content_kicker': None, 'print_headline': None, 'name': None, 'seo': None, 'sub': None}\n",
      "{'main': 'F.B.I. Looks at Whether China Funneled Money to Democrats', 'kicker': None, 'content_kicker': None, 'print_headline': None, 'name': None, 'seo': None, 'sub': None}\n",
      "{'main': \"A Gay Couple's Breakup In a Setting of Solidarity\", 'kicker': 'FILM REVIEW', 'content_kicker': None, 'print_headline': None, 'name': None, 'seo': None, 'sub': None}\n",
      "{'main': 'January Retail Sales Rose 0.6%, Slightly Less Than Expected', 'kicker': None, 'content_kicker': None, 'print_headline': None, 'name': None, 'seo': None, 'sub': None}\n",
      "{'main': 'Pataki Amends Budget Proposals For Medicaid Cuts and Tax Relief', 'kicker': None, 'content_kicker': None, 'print_headline': None, 'name': None, 'seo': None, 'sub': None}\n",
      "{'main': 'ROWLAND SEEKING TAX AND JOB CUTS', 'kicker': None, 'content_kicker': None, 'print_headline': None, 'name': None, 'seo': None, 'sub': None}\n",
      "{'main': 'French Basques Dream of Autonomy', 'kicker': None, 'content_kicker': None, 'print_headline': None, 'name': None, 'seo': None, 'sub': None}\n",
      "{'main': 'Art in Review', 'kicker': 'Art in Review', 'content_kicker': None, 'print_headline': None, 'name': None, 'seo': None, 'sub': None}\n",
      "{'main': 'F.B.I. Killed Unarmed Man, Inquiry Shows', 'kicker': None, 'content_kicker': None, 'print_headline': None, 'name': None, 'seo': None, 'sub': None}\n",
      "{'main': 'Chubb Security in Talks For Sale of Company', 'kicker': 'INTERNATIONAL BRIEFS', 'content_kicker': None, 'print_headline': None, 'name': None, 'seo': None, 'sub': None}\n",
      "{'main': 'HILTON URGES ITT NOT TO UNLOAD ASSETS', 'kicker': 'COMPANY NEWS', 'content_kicker': None, 'print_headline': None, 'name': None, 'seo': None, 'sub': None}\n",
      "{'main': 'Robert D. Currie, Stage Manager, 62', 'kicker': None, 'content_kicker': None, 'print_headline': None, 'name': None, 'seo': None, 'sub': None}\n",
      "{'main': \"Nelson: 'No Hard Feelings'\", 'kicker': 'PRO BASKETBALL', 'content_kicker': None, 'print_headline': None, 'name': None, 'seo': None, 'sub': None}\n",
      "{'main': 'Royals Win Goodwin Case', 'kicker': 'SPORTS PEOPLE: BASEBALL', 'content_kicker': None, 'print_headline': None, 'name': None, 'seo': None, 'sub': None}\n",
      "{'main': 'Corrections', 'kicker': None, 'content_kicker': None, 'print_headline': None, 'name': None, 'seo': None, 'sub': None}\n",
      "{'main': 'Farm Workers Hit by a Freeze and Hard Times', 'kicker': None, 'content_kicker': None, 'print_headline': None, 'name': None, 'seo': None, 'sub': None}\n",
      "{'main': 'Where 3 Died, a Home on the Margins of Society', 'kicker': None, 'content_kicker': None, 'print_headline': None, 'name': None, 'seo': None, 'sub': None}\n",
      "{'main': \"U.S. About to Give Rules On New Children's Car Seats\", 'kicker': None, 'content_kicker': None, 'print_headline': None, 'name': None, 'seo': None, 'sub': None}\n",
      "{'main': 'Memories of Penny Philanthropist Stir Gifts to Neediest', 'kicker': 'The Neediest Cases', 'content_kicker': None, 'print_headline': None, 'name': None, 'seo': None, 'sub': None}\n",
      "{'main': \"Mets Aren't Pushing the Big 3, So Acevedo Could Find a Spot\", 'kicker': 'BASEBALL: The Season of Hope Arrives in Florida', 'content_kicker': None, 'print_headline': None, 'name': None, 'seo': None, 'sub': None}\n",
      "{'main': 'For Jarrett and Earnhardt, May the Best Dale Triumph', 'kicker': 'AUTO RACING', 'content_kicker': None, 'print_headline': None, 'name': None, 'seo': None, 'sub': None}\n",
      "{'main': '$25 and Under', 'kicker': '$25 and Under', 'content_kicker': None, 'print_headline': None, 'name': None, 'seo': None, 'sub': None}\n",
      "{'main': 'NEW VIDEO RELEASES', 'kicker': 'NEW VIDEO RELEASES', 'content_kicker': None, 'print_headline': None, 'name': None, 'seo': None, 'sub': None}\n",
      "{'main': \"'Star Wars' Names Resonate in Time\", 'kicker': None, 'content_kicker': None, 'print_headline': None, 'name': None, 'seo': None, 'sub': None}\n",
      "{'main': 'Paid Notice: Deaths  SCHNEIDER, IRVING', 'kicker': None, 'content_kicker': None, 'print_headline': None, 'name': None, 'seo': None, 'sub': None}\n",
      "{'main': 'Paid Notice: Deaths  TE ROLLER, WILHELMINA EVA MARIA', 'kicker': None, 'content_kicker': None, 'print_headline': None, 'name': None, 'seo': None, 'sub': None}\n",
      "{'main': 'Even Bullish Analysts Are Looking Sheepish', 'kicker': None, 'content_kicker': None, 'print_headline': None, 'name': None, 'seo': None, 'sub': None}\n",
      "{'main': 'Questions Unasked', 'kicker': 'On My Mind', 'content_kicker': None, 'print_headline': None, 'name': None, 'seo': None, 'sub': None}\n",
      "{'main': \"Injury to O'Neal Is a Blow to Lakers\", 'kicker': 'PRO BASKETBALL', 'content_kicker': None, 'print_headline': None, 'name': None, 'seo': None, 'sub': None}\n",
      "{'main': 'GTE Change Brings 2d Ogilvy Conflict', 'kicker': 'THE MEDIA BUSINESS: ADVERTISING -- ADDENDA', 'content_kicker': None, 'print_headline': None, 'name': None, 'seo': None, 'sub': None}\n",
      "{'main': 'Staples Deal May Face F.T.C. Challenge', 'kicker': None, 'content_kicker': None, 'print_headline': None, 'name': None, 'seo': None, 'sub': None}\n",
      "{'main': 'Ethics Panel Clears Lynch', 'kicker': 'NEW JERSEY DAILY BRIEFING', 'content_kicker': None, 'print_headline': None, 'name': None, 'seo': None, 'sub': None}\n",
      "{'main': 'For Some Battered Women, Aid Is Only a Promise', 'kicker': None, 'content_kicker': None, 'print_headline': None, 'name': None, 'seo': None, 'sub': None}\n",
      "{'main': 'A New Surge of Growth, Just as Death Cut It Off', 'kicker': 'ART REVIEW', 'content_kicker': None, 'print_headline': None, 'name': None, 'seo': None, 'sub': None}\n",
      "{'main': 'By Whatever Name, Easier to Like', 'kicker': 'ART REVIEW', 'content_kicker': None, 'print_headline': None, 'name': None, 'seo': None, 'sub': None}\n",
      "{'main': 'Holiday on Monday', 'kicker': None, 'content_kicker': None, 'print_headline': None, 'name': None, 'seo': None, 'sub': None}\n",
      "{'main': 'Paid Notice: Deaths  SUNNERS, REBECCA', 'kicker': None, 'content_kicker': None, 'print_headline': None, 'name': None, 'seo': None, 'sub': None}\n",
      "{'main': 'Drug Therapy At Diet Centers Raises Fears', 'kicker': 'Wieght Loss From Out of A Bottle', 'content_kicker': None, 'print_headline': None, 'name': None, 'seo': None, 'sub': None}\n",
      "{'main': 'Dr. Henry Margenau, 96, Yale Physicist and Spectroscopy Expert', 'kicker': None, 'content_kicker': None, 'print_headline': None, 'name': None, 'seo': None, 'sub': None}\n",
      "{'main': 'MUSICLAND TO CLOSE 75 STORES AND SEEK INVESTORS', 'kicker': 'COMPANY NEWS', 'content_kicker': None, 'print_headline': None, 'name': None, 'seo': None, 'sub': None}\n",
      "{'main': 'Liton Negotiating With General Instrument', 'kicker': 'INTERNATIONAL BRIEFS', 'content_kicker': None, 'print_headline': None, 'name': None, 'seo': None, 'sub': None}\n",
      "{'main': 'Stocks Up Again in Tokyo', 'kicker': None, 'content_kicker': None, 'print_headline': None, 'name': None, 'seo': None, 'sub': None}\n",
      "{'main': 'A Word To the Wise', 'kicker': 'In America', 'content_kicker': None, 'print_headline': None, 'name': None, 'seo': None, 'sub': None}\n",
      "{'main': 'Paid Notice: Deaths  FOLEY, ARCHIBALD RICHARD, M.D.', 'kicker': None, 'content_kicker': None, 'print_headline': None, 'name': None, 'seo': None, 'sub': None}\n",
      "{'main': 'Paid Notice: Deaths  JANSSEN, ELEANOR HILL', 'kicker': None, 'content_kicker': None, 'print_headline': None, 'name': None, 'seo': None, 'sub': None}\n",
      "{'main': 'Places Where Hearts Take Flight (or the Ferry)', 'kicker': None, 'content_kicker': None, 'print_headline': None, 'name': None, 'seo': None, 'sub': None}\n",
      "{'main': 'William M. Klein Jr., 63, Dies; Directed Gardens in 3 States', 'kicker': None, 'content_kicker': None, 'print_headline': None, 'name': None, 'seo': None, 'sub': None}\n",
      "{'main': 'Corrections', 'kicker': None, 'content_kicker': None, 'print_headline': None, 'name': None, 'seo': None, 'sub': None}\n",
      "{'main': 'Paid Notice: Deaths  SHAPIRO, DAVID N.', 'kicker': None, 'content_kicker': None, 'print_headline': None, 'name': None, 'seo': None, 'sub': None}\n",
      "{'main': \"Diner's Journal\", 'kicker': \"Diner's Journal\", 'content_kicker': None, 'print_headline': None, 'name': None, 'seo': None, 'sub': None}\n",
      "{'main': 'A Cat and Its Humans Get a Makeover. Meow!', 'kicker': 'FILM REVIEW', 'content_kicker': None, 'print_headline': None, 'name': None, 'seo': None, 'sub': None}\n",
      "{'main': 'Paid Notice: Deaths  WEIL, HENRIETTA SIMONS', 'kicker': None, 'content_kicker': None, 'print_headline': None, 'name': None, 'seo': None, 'sub': None}\n",
      "{'main': 'Paid Notice: Deaths  GRAY, FLORENCE', 'kicker': None, 'content_kicker': None, 'print_headline': None, 'name': None, 'seo': None, 'sub': None}\n",
      "{'main': 'Sporting Goods Concerns Agree to Combat Sale of Soccer Balls Made by Children', 'kicker': None, 'content_kicker': None, 'print_headline': None, 'name': None, 'seo': None, 'sub': None}\n",
      "{'main': 'BUSINESS DIGEST', 'kicker': None, 'content_kicker': None, 'print_headline': None, 'name': None, 'seo': None, 'sub': None}\n",
      "{'main': 'Art in Review', 'kicker': 'Art in Review', 'content_kicker': None, 'print_headline': None, 'name': None, 'seo': None, 'sub': None}\n",
      "{'main': 'A Fashion Industry Center', 'kicker': 'Metro Business', 'content_kicker': None, 'print_headline': None, 'name': None, 'seo': None, 'sub': None}\n",
      "{'main': 'NEW VIDEO RELEASES', 'kicker': 'NEW VIDEO RELEASES', 'content_kicker': None, 'print_headline': None, 'name': None, 'seo': None, 'sub': None}\n",
      "{'main': \"Peter the Great's Boat Mesmerizes Russian Emigres\", 'kicker': 'Ship of State, State of Mind', 'content_kicker': None, 'print_headline': None, 'name': None, 'seo': None, 'sub': None}\n",
      "{'main': 'At Service, Clinton Recalls Pamela Harriman the Patriot', 'kicker': None, 'content_kicker': None, 'print_headline': None, 'name': None, 'seo': None, 'sub': None}\n",
      "{'main': 'Inside Photography', 'kicker': 'Inside Photography', 'content_kicker': None, 'print_headline': None, 'name': None, 'seo': None, 'sub': None}\n",
      "{'main': 'Paid Notice: Deaths  PILO, MARIUS, ESQ.', 'kicker': None, 'content_kicker': None, 'print_headline': None, 'name': None, 'seo': None, 'sub': None}\n",
      "{'main': 'Paid Notice: Memorials  SACKS, ALVIA', 'kicker': None, 'content_kicker': None, 'print_headline': None, 'name': None, 'seo': None, 'sub': None}\n",
      "{'main': \"Doing Miracles Isn't a Bed of Roses\", 'kicker': 'FILM REVIEW', 'content_kicker': None, 'print_headline': None, 'name': None, 'seo': None, 'sub': None}\n",
      "{'main': \"Mercedes-Benz's new campaign is injecting fun-loving spirit into precise German engineering.\", 'kicker': 'THE MEDIA BUSINESS: ADVERTISING', 'content_kicker': None, 'print_headline': None, 'name': None, 'seo': None, 'sub': None}\n",
      "{'main': 'Accounting at Pearson U.S. Unit May Force $163 Million Charge', 'kicker': None, 'content_kicker': None, 'print_headline': None, 'name': None, 'seo': None, 'sub': None}\n",
      "{'main': 'Panel Issues 52 Subpoenas In Inquiry on Fund Raising', 'kicker': None, 'content_kicker': None, 'print_headline': None, 'name': None, 'seo': None, 'sub': None}\n",
      "{'main': 'RESULTS PLUS', 'kicker': None, 'content_kicker': None, 'print_headline': None, 'name': None, 'seo': None, 'sub': None}\n",
      "{'main': '3 Top South Koreans Seized in Bribery Case', 'kicker': None, 'content_kicker': None, 'print_headline': None, 'name': None, 'seo': None, 'sub': None}\n",
      "{'main': \"Clinton's Forecast of Surplus Is Disputed by Capitol Agency\", 'kicker': None, 'content_kicker': None, 'print_headline': None, 'name': None, 'seo': None, 'sub': None}\n",
      "{'main': 'Pohang Steel to Buy Businesses From Sammi', 'kicker': 'INTERNATIONAL BRIEFS', 'content_kicker': None, 'print_headline': None, 'name': None, 'seo': None, 'sub': None}\n",
      "{'main': 'Paid Notice: Deaths  GRAY, FLORENCE (SEIDE)', 'kicker': None, 'content_kicker': None, 'print_headline': None, 'name': None, 'seo': None, 'sub': None}\n",
      "{'main': 'Paid Notice: Deaths  SHAVRICK, ISADORE', 'kicker': None, 'content_kicker': None, 'print_headline': None, 'name': None, 'seo': None, 'sub': None}\n",
      "{'main': 'Paid Notice: Deaths  SOLOFF, GUSSIE', 'kicker': None, 'content_kicker': None, 'print_headline': None, 'name': None, 'seo': None, 'sub': None}\n",
      "{'main': 'From Green Eggs To Ham, Hands On', 'kicker': None, 'content_kicker': None, 'print_headline': None, 'name': None, 'seo': None, 'sub': None}\n",
      "{'main': 'Sears to Open 110 Stores in New York by End of 1999', 'kicker': None, 'content_kicker': None, 'print_headline': None, 'name': None, 'seo': None, 'sub': None}\n",
      "{'main': 'Art in Review', 'kicker': 'Art in Review', 'content_kicker': None, 'print_headline': None, 'name': None, 'seo': None, 'sub': None}\n",
      "{'main': 'NEW VIDEO RELEASES', 'kicker': 'NEW VIDEO RELEASES', 'content_kicker': None, 'print_headline': None, 'name': None, 'seo': None, 'sub': None}\n",
      "{'main': 'Paid Notice: Deaths  ROCHE, THOMAS KIRBY', 'kicker': None, 'content_kicker': None, 'print_headline': None, 'name': None, 'seo': None, 'sub': None}\n",
      "{'main': 'Price Soars and Yield Falls To 6.62% on 30-Year Bond', 'kicker': 'CREDIT MARKETS', 'content_kicker': None, 'print_headline': None, 'name': None, 'seo': None, 'sub': None}\n",
      "{'main': 'Paid Notice: Deaths  DARCY, JOHN J', 'kicker': None, 'content_kicker': None, 'print_headline': None, 'name': None, 'seo': None, 'sub': None}\n",
      "{'main': 'Stocks Race Past New Milestone As Dow Breaks 7,000 Barrier', 'kicker': None, 'content_kicker': None, 'print_headline': None, 'name': None, 'seo': None, 'sub': None}\n",
      "{'main': 'In American Eagle, Union Sees a Threat', 'kicker': 'DISPUTE AT AMERICAN AIRLINES: THE SISTER AIRLINE', 'content_kicker': None, 'print_headline': None, 'name': None, 'seo': None, 'sub': None}\n",
      "{'main': 'Will the Asteroids Destroy Kansas City? Guess.', 'kicker': 'TV WEEKEND', 'content_kicker': None, 'print_headline': None, 'name': None, 'seo': None, 'sub': None}\n",
      "{'main': 'Shut Up and Drive', 'kicker': None, 'content_kicker': None, 'print_headline': None, 'name': None, 'seo': None, 'sub': None}\n",
      "{'main': 'British Fund Manager Sets Up Line of Credit', 'kicker': 'INTERNATIONAL BRIEFS', 'content_kicker': None, 'print_headline': None, 'name': None, 'seo': None, 'sub': None}\n",
      "{'main': 'NEWPORT PETROLEUM TO ACQUIRE CIMARRON', 'kicker': 'COMPANY NEWS', 'content_kicker': None, 'print_headline': None, 'name': None, 'seo': None, 'sub': None}\n",
      "{'main': 'Paid Notice: Deaths  CARLON, ANGELO ANTENORE', 'kicker': None, 'content_kicker': None, 'print_headline': None, 'name': None, 'seo': None, 'sub': None}\n",
      "{'main': 'Video Valentines to Russia, Seeking Patient Brides', 'kicker': None, 'content_kicker': None, 'print_headline': None, 'name': None, 'seo': None, 'sub': None}\n",
      "{'main': 'Ferraro Asks Backers to Await Her Decision on Senate Race', 'kicker': None, 'content_kicker': None, 'print_headline': None, 'name': None, 'seo': None, 'sub': None}\n",
      "{'main': 'Italy Can Curb North African Immigration', 'kicker': None, 'content_kicker': None, 'print_headline': None, 'name': None, 'seo': None, 'sub': None}\n",
      "{'main': 'People', 'kicker': 'THE MEDIA BUSINESS: ADVERTISING -- ADDENDA', 'content_kicker': None, 'print_headline': None, 'name': None, 'seo': None, 'sub': None}\n",
      "{'main': 'Paid Notice: Deaths  SQUIRE, JUDGE SIDNEY', 'kicker': None, 'content_kicker': None, 'print_headline': None, 'name': None, 'seo': None, 'sub': None}\n",
      "{'main': 'Rifts Among Pilots', 'kicker': None, 'content_kicker': None, 'print_headline': None, 'name': None, 'seo': None, 'sub': None}\n",
      "{'main': 'Paid Notice: Deaths  STODDARD, THOMAS B', 'kicker': None, 'content_kicker': None, 'print_headline': None, 'name': None, 'seo': None, 'sub': None}\n",
      "{'main': 'Administration Welfare Plea Is Scorned', 'kicker': None, 'content_kicker': None, 'print_headline': None, 'name': None, 'seo': None, 'sub': None}\n",
      "{'main': '18 Adelphi Trustees Resign, Abandoning a Court Battle', 'kicker': None, 'content_kicker': None, 'print_headline': None, 'name': None, 'seo': None, 'sub': None}\n",
      "{'main': 'Gunfire Injures 2 Students At High Schools in Bronx', 'kicker': None, 'content_kicker': None, 'print_headline': None, 'name': None, 'seo': None, 'sub': None}\n",
      "{'main': 'Justice May Require Second Trial on Rights', 'kicker': None, 'content_kicker': None, 'print_headline': None, 'name': None, 'seo': None, 'sub': None}\n",
      "{'main': 'Answers in Archives', 'kicker': 'New Swiss Generation Rejects Wartime Myths', 'content_kicker': None, 'print_headline': None, 'name': None, 'seo': None, 'sub': None}\n",
      "{'main': 'Leonard Is Ready to Fight', 'kicker': 'SPORTS PEOPLE: BOXING', 'content_kicker': None, 'print_headline': None, 'name': None, 'seo': None, 'sub': None}\n",
      "{'main': 'Paid Notice: Deaths  WADE, CORNELIUS J', 'kicker': None, 'content_kicker': None, 'print_headline': None, 'name': None, 'seo': None, 'sub': None}\n",
      "{'main': 'Paid Notice: Deaths  BLAGDEN, CRAWFORD', 'kicker': None, 'content_kicker': None, 'print_headline': None, 'name': None, 'seo': None, 'sub': None}\n",
      "{'main': 'Corrections', 'kicker': None, 'content_kicker': None, 'print_headline': None, 'name': None, 'seo': None, 'sub': None}\n",
      "{'main': 'Paid Notice: Memorials  MEYERS, BONNIE LYNN', 'kicker': None, 'content_kicker': None, 'print_headline': None, 'name': None, 'seo': None, 'sub': None}\n",
      "{'main': 'A Whole New Meaning For Executive Privilege', 'kicker': 'FILM REVIEW', 'content_kicker': None, 'print_headline': None, 'name': None, 'seo': None, 'sub': None}\n",
      "{'main': 'Going to Great Lengths To Get From Point A to B', 'kicker': 'DISPUTE AT AMERICAN AIRLINES: THE TRAVELERS', 'content_kicker': None, 'print_headline': None, 'name': None, 'seo': None, 'sub': None}\n",
      "{'main': 'Clinton Demands Action on C.I.A. Nominee', 'kicker': None, 'content_kicker': None, 'print_headline': None, 'name': None, 'seo': None, 'sub': None}\n",
      "{'main': 'Pennsylvania Bank Deal', 'kicker': None, 'content_kicker': None, 'print_headline': None, 'name': None, 'seo': None, 'sub': None}\n",
      "{'main': 'Last Chance', 'kicker': 'Last Chance', 'content_kicker': None, 'print_headline': None, 'name': None, 'seo': None, 'sub': None}\n",
      "{'main': 'Paid Notice: Deaths  CISEK, MIECISLAUS J., (MICKEY)', 'kicker': None, 'content_kicker': None, 'print_headline': None, 'name': None, 'seo': None, 'sub': None}\n",
      "{'main': 'Paid Notice: Deaths  SCHEER, RAY', 'kicker': None, 'content_kicker': None, 'print_headline': None, 'name': None, 'seo': None, 'sub': None}\n",
      "{'main': 'Paid Notice: Deaths  GRANT, DAVID', 'kicker': None, 'content_kicker': None, 'print_headline': None, 'name': None, 'seo': None, 'sub': None}\n",
      "{'main': 'An Outpost Whose Futures Have Come and Gone', 'kicker': 'Kisangani Journal', 'content_kicker': None, 'print_headline': None, 'name': None, 'seo': None, 'sub': None}\n",
      "{'main': 'Cosmic Amino Acids Also Show Left-Handed Bias, Study Says', 'kicker': None, 'content_kicker': None, 'print_headline': None, 'name': None, 'seo': None, 'sub': None}\n",
      "{'main': 'For Baseball, Redemption Is the Basics', 'kicker': 'Sports of The Times', 'content_kicker': None, 'print_headline': None, 'name': None, 'seo': None, 'sub': None}\n",
      "{'main': 'Restaurants', 'kicker': 'Restaurants', 'content_kicker': None, 'print_headline': None, 'name': None, 'seo': None, 'sub': None}\n",
      "{'main': \"British Soldier's Death in Ulster Raises Fears of New Violence\", 'kicker': None, 'content_kicker': None, 'print_headline': None, 'name': None, 'seo': None, 'sub': None}\n",
      "{'main': 'Prettiness And a Battle', 'kicker': 'BALLET REVIEW', 'content_kicker': None, 'print_headline': None, 'name': None, 'seo': None, 'sub': None}\n",
      "{'main': 'Nanny, Accused of Murdering Baby, Enters Not Guilty Plea', 'kicker': None, 'content_kicker': None, 'print_headline': None, 'name': None, 'seo': None, 'sub': None}\n",
      "{'main': 'Shippers Preparing Strike Alternatives', 'kicker': 'DISPUTE AT AMERICAN AIRLINES', 'content_kicker': None, 'print_headline': None, 'name': None, 'seo': None, 'sub': None}\n",
      "{'main': 'Mets Have Japanese Pitchers', 'kicker': 'BASEBALL', 'content_kicker': None, 'print_headline': None, 'name': None, 'seo': None, 'sub': None}\n",
      "{'main': 'Paid Notice: Deaths  FLANAGAN, THOMAS J', 'kicker': None, 'content_kicker': None, 'print_headline': None, 'name': None, 'seo': None, 'sub': None}\n",
      "{'main': 'Rising Spiral of Modernism', 'kicker': 'SCULPTURE REVIEW', 'content_kicker': None, 'print_headline': None, 'name': None, 'seo': None, 'sub': None}\n",
      "{'main': 'Thomas Stoddard, 48, Dies; An Advocate of Gay Rights', 'kicker': None, 'content_kicker': None, 'print_headline': None, 'name': None, 'seo': None, 'sub': None}\n",
      "{'main': 'Skating Coverage May Be Sliding Out of Control', 'kicker': 'TV SPORTS', 'content_kicker': None, 'print_headline': None, 'name': None, 'seo': None, 'sub': None}\n",
      "{'main': 'Home Video', 'kicker': 'Home Video', 'content_kicker': None, 'print_headline': None, 'name': None, 'seo': None, 'sub': None}\n",
      "{'main': 'Police Union And City Hall To Resume Negotiations', 'kicker': None, 'content_kicker': None, 'print_headline': None, 'name': None, 'seo': None, 'sub': None}\n",
      "{'main': 'CHRONICLE', 'kicker': 'CHRONICLE', 'content_kicker': None, 'print_headline': None, 'name': None, 'seo': None, 'sub': None}\n",
      "{'main': 'INSIDE METRO', 'kicker': None, 'content_kicker': None, 'print_headline': None, 'name': None, 'seo': None, 'sub': None}\n",
      "{'main': 'Remembering Pamela Harriman', 'kicker': None, 'content_kicker': None, 'print_headline': None, 'name': None, 'seo': None, 'sub': None}\n",
      "{'main': 'Paid Notice: Deaths  GOLDSTEIN, JEROME', 'kicker': None, 'content_kicker': None, 'print_headline': None, 'name': None, 'seo': None, 'sub': None}\n",
      "{'main': 'Sex With a Psycho, Just for Starters', 'kicker': 'BOOKS OF THE TIMES', 'content_kicker': None, 'print_headline': None, 'name': None, 'seo': None, 'sub': None}\n",
      "{'main': 'Giuliani Urges Lobbying Ban For Agencies', 'kicker': None, 'content_kicker': None, 'print_headline': None, 'name': None, 'seo': None, 'sub': None}\n",
      "{'main': 'U.S. Remains Odd Man Out In Global Push For Phone Deal', 'kicker': None, 'content_kicker': None, 'print_headline': None, 'name': None, 'seo': None, 'sub': None}\n",
      "{'main': 'U.N. Chief Says Abandoning Aid Force for Zaire Was a Mistake', 'kicker': None, 'content_kicker': None, 'print_headline': None, 'name': None, 'seo': None, 'sub': None}\n",
      "{'main': 'No Headline', 'kicker': None, 'content_kicker': None, 'print_headline': None, 'name': None, 'seo': None, 'sub': None}\n",
      "{'main': 'Paid Notice: Deaths  WILSON, FRANK', 'kicker': None, 'content_kicker': None, 'print_headline': None, 'name': None, 'seo': None, 'sub': None}\n",
      "{'main': 'For Many From Hong Kong, Vancouver Is a Way Station', 'kicker': None, 'content_kicker': None, 'print_headline': None, 'name': None, 'seo': None, 'sub': None}\n",
      "{'main': 'Third Place for Davis a Confidence Booster', 'kicker': 'FIGURE SKATING', 'content_kicker': None, 'print_headline': None, 'name': None, 'seo': None, 'sub': None}\n",
      "{'main': 'Corrections', 'kicker': None, 'content_kicker': None, 'print_headline': None, 'name': None, 'seo': None, 'sub': None}\n",
      "{'main': 'Paid Notice: Deaths  WAIS, BERTHA', 'kicker': None, 'content_kicker': None, 'print_headline': None, 'name': None, 'seo': None, 'sub': None}\n",
      "{'main': 'Surviving on Grace in a World Beyond Hope', 'kicker': 'THEATER REVIEW', 'content_kicker': None, 'print_headline': None, 'name': None, 'seo': None, 'sub': None}\n",
      "{'main': 'Air Force to Change Rules On Identifying Other Planes', 'kicker': None, 'content_kicker': None, 'print_headline': None, 'name': None, 'seo': None, 'sub': None}\n",
      "{'main': \"Knicks' Childs Finally Gets the Best of 76ers' Iverson\", 'kicker': 'PRO BASKETBALL', 'content_kicker': None, 'print_headline': None, 'name': None, 'seo': None, 'sub': None}\n",
      "{'main': 'Dinkins Picks Messinger As His Choice For Mayor', 'kicker': None, 'content_kicker': None, 'print_headline': None, 'name': None, 'seo': None, 'sub': None}\n",
      "{'main': 'Clinton Wants Anti-Drug Ads for Youths', 'kicker': None, 'content_kicker': None, 'print_headline': None, 'name': None, 'seo': None, 'sub': None}\n",
      "{'main': 'Nudging Israel and Syria', 'kicker': 'Challenges of Diplomacy', 'content_kicker': None, 'print_headline': None, 'name': None, 'seo': None, 'sub': None}\n",
      "{'main': 'A General Motors Axle Supplier Is Also Facing a Strike Deadline', 'kicker': None, 'content_kicker': None, 'print_headline': None, 'name': None, 'seo': None, 'sub': None}\n",
      "{'main': \"Verdict in Student's Slaying\", 'kicker': 'NEW JERSEY DAILY BRIEFING', 'content_kicker': None, 'print_headline': None, 'name': None, 'seo': None, 'sub': None}\n",
      "{'main': 'CHRONICLE', 'kicker': 'CHRONICLE', 'content_kicker': None, 'print_headline': None, 'name': None, 'seo': None, 'sub': None}\n",
      "{'main': 'The Debacle at Adelphi', 'kicker': None, 'content_kicker': None, 'print_headline': None, 'name': None, 'seo': None, 'sub': None}\n",
      "{'main': 'NORTHSTAR TO ACQUIRE MORRISON FOR $476 MILLION', 'kicker': 'COMPANY NEWS', 'content_kicker': None, 'print_headline': None, 'name': None, 'seo': None, 'sub': None}\n",
      "{'main': 'Subway Inefficiency', 'kicker': None, 'content_kicker': None, 'print_headline': None, 'name': None, 'seo': None, 'sub': None}\n",
      "{'main': \"'Star Wars' Names Resonate in Time\", 'kicker': None, 'content_kicker': None, 'print_headline': None, 'name': None, 'seo': None, 'sub': None}\n",
      "{'main': 'Corrections', 'kicker': None, 'content_kicker': None, 'print_headline': None, 'name': None, 'seo': None, 'sub': None}\n",
      "{'main': 'Corrections', 'kicker': None, 'content_kicker': None, 'print_headline': None, 'name': None, 'seo': None, 'sub': None}\n",
      "{'main': 'Paid Notice: Memorials  OSTROW, IRENE', 'kicker': None, 'content_kicker': None, 'print_headline': None, 'name': None, 'seo': None, 'sub': None}\n",
      "{'main': 'New York: Capital of Love', 'kicker': None, 'content_kicker': None, 'print_headline': None, 'name': None, 'seo': None, 'sub': None}\n",
      "{'main': 'News Summary', 'kicker': None, 'content_kicker': None, 'print_headline': None, 'name': None, 'seo': None, 'sub': None}\n",
      "{'main': 'Sales Up for Small and Medium Condos', 'kicker': 'Residential Real Estate', 'content_kicker': None, 'print_headline': None, 'name': None, 'seo': None, 'sub': None}\n",
      "{'main': 'Key Rates', 'kicker': 'Key Rates', 'content_kicker': None, 'print_headline': None, 'name': None, 'seo': None, 'sub': None}\n",
      "{'main': 'F.D.A. Chief to Become Yale Medical Dean', 'kicker': 'National News Briefs', 'content_kicker': None, 'print_headline': None, 'name': None, 'seo': None, 'sub': None}\n",
      "{'main': 'Call It Double Jeopardy', 'kicker': None, 'content_kicker': None, 'print_headline': 'Call It Double Jeopardy', 'name': None, 'seo': None, 'sub': None}\n"
     ]
    }
   ],
   "source": [
    "for doc in docs:\n",
    "    print(doc['headline'])"
   ]
  },
  {
   "cell_type": "code",
   "execution_count": 67,
   "metadata": {
    "scrolled": true
   },
   "outputs": [
    {
     "data": {
      "text/plain": [
       "{'web_url': 'https://www.nytimes.com/1997/02/14/arts/for-children.html',\n",
       " 'snippet': \"'The African Drum'  Shadow Box Theater  Y.W.C.A. of Brooklyn  30 Third Avenue, at Atlantic Avenue  Boerum Hill  (212) 724-0677  Recommended ages: 2 to 10  Tomorrow and March 1      There isn't much in Brooklyn that resembles the Serengeti Plains. ...\",\n",
       " 'lead_paragraph': \"'The African Drum' Shadow Box Theater Y.W.C.A. of Brooklyn 30 Third Avenue, at Atlantic Avenue Boerum Hill (212) 724-0677 Recommended ages: 2 to 10 Tomorrow and March 1 There isn't much in Brooklyn that resembles the Serengeti Plains. Except, perhaps, the stage at the Y.W.C.A., where the Shadow Box Theater is celebrating Black History Month with ''The African Drum.'' Here, children can see a multimedia presentation of traditional African tales whose characters include a talking leopard, a wise loon and a turtle who is just as resourceful as the hero of ''The Tortoise and the Hare.'' All are shadow puppets, which are so deftly manipulated behind a lighted screen that the colorful animals appear to be frolicking in the grasslands. Despite its exotic setting, ''The African Drum'' shows that certain parental rules are universal, like the admonition not to talk to strangers. This warning emerges from the fictional setting for the tales, which are told by a little girl, Kijani, who has been left alone for the day by her parents. Kijani, who is portrayed by a puppet, and her mother and father, who are played by actors, have agreed that she should not speak to anyone while she is by herself. But a purported friend of the family, who also happens to be a zimwe (bad man), hears Kijani relating her stories to her animal friends. He tricks Kijani into entering his bongo; he then traps her there, thinking that he will become rich by traveling with his ''magic storytelling drum.''\",\n",
       " 'print_page': '22',\n",
       " 'blog': {},\n",
       " 'source': 'The New York Times',\n",
       " 'multimedia': [],\n",
       " 'headline': {'main': 'For Children',\n",
       "  'kicker': 'For Children',\n",
       "  'content_kicker': None,\n",
       "  'print_headline': None,\n",
       "  'name': None,\n",
       "  'seo': None,\n",
       "  'sub': None},\n",
       " 'keywords': [{'name': 'glocations',\n",
       "   'value': 'NEW YORK CITY',\n",
       "   'rank': 0,\n",
       "   'major': None},\n",
       "  {'name': 'subject', 'value': 'CHILDREN AND YOUTH', 'rank': 0, 'major': None},\n",
       "  {'name': 'subject',\n",
       "   'value': 'ENTERTAINMENT AND AMUSEMENTS',\n",
       "   'rank': 0,\n",
       "   'major': None}],\n",
       " 'pub_date': '1997-02-14T00:00:00Z',\n",
       " 'document_type': 'article',\n",
       " 'news_desk': 'Weekend Desk',\n",
       " 'section_name': 'Arts',\n",
       " 'byline': {'original': 'By Laurel Graeber',\n",
       "  'person': [{'firstname': 'Laurel',\n",
       "    'middlename': None,\n",
       "    'lastname': 'Graeber',\n",
       "    'qualifier': None,\n",
       "    'title': None,\n",
       "    'role': 'reported',\n",
       "    'organization': '',\n",
       "    'rank': 1}],\n",
       "  'organization': None},\n",
       " 'type_of_material': 'Review',\n",
       " '_id': '4fd1dadf8eb7c8105d71b387',\n",
       " 'word_count': 1017,\n",
       " 'score': 0.0}"
      ]
     },
     "execution_count": 67,
     "metadata": {},
     "output_type": "execute_result"
    }
   ],
   "source": [
    "docs[5]"
   ]
  },
  {
   "cell_type": "markdown",
   "metadata": {},
   "source": [
    "## SIMPLIFIED ARTICLES\n",
    "Basically I have just included data from three field I considered are important for topic modelling"
   ]
  },
  {
   "cell_type": "code",
   "execution_count": 71,
   "metadata": {},
   "outputs": [],
   "source": [
    "#basically creating a new_list which only has these details considered relevant by me for topic model\n",
    "simplified_articles = [(str(article['description']) + str(article['text']) + str(article['title']) ) for article in articles_in_dic_format]"
   ]
  },
  {
   "cell_type": "code",
   "execution_count": null,
   "metadata": {},
   "outputs": [],
   "source": [
    "print(simplified_articles[5])"
   ]
  },
  {
   "cell_type": "code",
   "execution_count": 79,
   "metadata": {},
   "outputs": [],
   "source": [
    "import json"
   ]
  },
  {
   "cell_type": "code",
   "execution_count": 80,
   "metadata": {},
   "outputs": [],
   "source": [
    "#writing this to a file for future use\n",
    "with open('articles.json','w') as file:\n",
    "    json.dump(simplified_articles,file)"
   ]
  },
  {
   "cell_type": "code",
   "execution_count": 81,
   "metadata": {},
   "outputs": [],
   "source": [
    "#loading from file\n",
    "with open('articles.json','r') as file:\n",
    "    js_to_li= json.load(file)"
   ]
  },
  {
   "cell_type": "markdown",
   "metadata": {},
   "source": [
    "## HEADOVER TO NOTEBOOK FOR LDA MODELLING"
   ]
  }
 ],
 "metadata": {
  "kernelspec": {
   "display_name": "Python 3",
   "language": "python",
   "name": "python3"
  },
  "language_info": {
   "codemirror_mode": {
    "name": "ipython",
    "version": 3
   },
   "file_extension": ".py",
   "mimetype": "text/x-python",
   "name": "python",
   "nbconvert_exporter": "python",
   "pygments_lexer": "ipython3",
   "version": "3.7.1"
  }
 },
 "nbformat": 4,
 "nbformat_minor": 2
}
